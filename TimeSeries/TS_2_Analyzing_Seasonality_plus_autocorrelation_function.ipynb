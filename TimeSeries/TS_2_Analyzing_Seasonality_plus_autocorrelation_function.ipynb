{
 "cells": [
  {
   "cell_type": "code",
   "execution_count": 1,
   "metadata": {},
   "outputs": [
    {
     "data": {
      "text/html": [
       "<table>\n",
       "<caption>A data.frame: 6 × 14</caption>\n",
       "<thead>\n",
       "\t<tr><th scope=col>Year</th><th scope=col>Jan</th><th scope=col>Feb</th><th scope=col>Mar</th><th scope=col>Apr</th><th scope=col>May</th><th scope=col>Jun</th><th scope=col>Jul</th><th scope=col>Aug</th><th scope=col>Sep</th><th scope=col>Oct</th><th scope=col>Nov</th><th scope=col>Dec</th><th scope=col>Annual</th></tr>\n",
       "\t<tr><th scope=col>&lt;int&gt;</th><th scope=col>&lt;dbl&gt;</th><th scope=col>&lt;dbl&gt;</th><th scope=col>&lt;dbl&gt;</th><th scope=col>&lt;dbl&gt;</th><th scope=col>&lt;dbl&gt;</th><th scope=col>&lt;dbl&gt;</th><th scope=col>&lt;dbl&gt;</th><th scope=col>&lt;dbl&gt;</th><th scope=col>&lt;dbl&gt;</th><th scope=col>&lt;dbl&gt;</th><th scope=col>&lt;dbl&gt;</th><th scope=col>&lt;dbl&gt;</th><th scope=col>&lt;dbl&gt;</th></tr>\n",
       "</thead>\n",
       "<tbody>\n",
       "\t<tr><td>1879</td><td>44.3</td><td>43.7</td><td>57.6</td><td>58.9</td><td>69.8</td><td>74.9</td><td>79.6</td><td>73.9</td><td>68.7</td><td>64.3</td><td>53.9</td><td>51.5</td><td>61.8</td></tr>\n",
       "\t<tr><td>1880</td><td>54.3</td><td>51.4</td><td>55.5</td><td>63.4</td><td>71.0</td><td>76.5</td><td>79.2</td><td>76.8</td><td>69.4</td><td>60.8</td><td>47.2</td><td>42.1</td><td>62.3</td></tr>\n",
       "\t<tr><td>1881</td><td>40.1</td><td>46.6</td><td>49.1</td><td>59.1</td><td>70.8</td><td>77.8</td><td>81.1</td><td>78.8</td><td>75.5</td><td>67.2</td><td>52.6</td><td>49.6</td><td>62.4</td></tr>\n",
       "\t<tr><td>1882</td><td>48.8</td><td>52.4</td><td>57.4</td><td>64.8</td><td>66.1</td><td>76.6</td><td>75.9</td><td>75.8</td><td>71.7</td><td>65.8</td><td>51.1</td><td>41.4</td><td>62.3</td></tr>\n",
       "\t<tr><td>1883</td><td>43.0</td><td>50.2</td><td>50.2</td><td>61.6</td><td>67.4</td><td>76.4</td><td>80.1</td><td>76.2</td><td>71.3</td><td>66.0</td><td>53.7</td><td>48.0</td><td>62.0</td></tr>\n",
       "\t<tr><td>1884</td><td>35.9</td><td>51.7</td><td>54.4</td><td>58.4</td><td>70.7</td><td>71.1</td><td>77.7</td><td>75.3</td><td>74.9</td><td>68.1</td><td>51.3</td><td>44.5</td><td>61.2</td></tr>\n",
       "</tbody>\n",
       "</table>\n"
      ],
      "text/latex": [
       "A data.frame: 6 × 14\n",
       "\\begin{tabular}{r|llllllllllllll}\n",
       " Year & Jan & Feb & Mar & Apr & May & Jun & Jul & Aug & Sep & Oct & Nov & Dec & Annual\\\\\n",
       " <int> & <dbl> & <dbl> & <dbl> & <dbl> & <dbl> & <dbl> & <dbl> & <dbl> & <dbl> & <dbl> & <dbl> & <dbl> & <dbl>\\\\\n",
       "\\hline\n",
       "\t 1879 & 44.3 & 43.7 & 57.6 & 58.9 & 69.8 & 74.9 & 79.6 & 73.9 & 68.7 & 64.3 & 53.9 & 51.5 & 61.8\\\\\n",
       "\t 1880 & 54.3 & 51.4 & 55.5 & 63.4 & 71.0 & 76.5 & 79.2 & 76.8 & 69.4 & 60.8 & 47.2 & 42.1 & 62.3\\\\\n",
       "\t 1881 & 40.1 & 46.6 & 49.1 & 59.1 & 70.8 & 77.8 & 81.1 & 78.8 & 75.5 & 67.2 & 52.6 & 49.6 & 62.4\\\\\n",
       "\t 1882 & 48.8 & 52.4 & 57.4 & 64.8 & 66.1 & 76.6 & 75.9 & 75.8 & 71.7 & 65.8 & 51.1 & 41.4 & 62.3\\\\\n",
       "\t 1883 & 43.0 & 50.2 & 50.2 & 61.6 & 67.4 & 76.4 & 80.1 & 76.2 & 71.3 & 66.0 & 53.7 & 48.0 & 62.0\\\\\n",
       "\t 1884 & 35.9 & 51.7 & 54.4 & 58.4 & 70.7 & 71.1 & 77.7 & 75.3 & 74.9 & 68.1 & 51.3 & 44.5 & 61.2\\\\\n",
       "\\end{tabular}\n"
      ],
      "text/markdown": [
       "\n",
       "A data.frame: 6 × 14\n",
       "\n",
       "| Year &lt;int&gt; | Jan &lt;dbl&gt; | Feb &lt;dbl&gt; | Mar &lt;dbl&gt; | Apr &lt;dbl&gt; | May &lt;dbl&gt; | Jun &lt;dbl&gt; | Jul &lt;dbl&gt; | Aug &lt;dbl&gt; | Sep &lt;dbl&gt; | Oct &lt;dbl&gt; | Nov &lt;dbl&gt; | Dec &lt;dbl&gt; | Annual &lt;dbl&gt; |\n",
       "|---|---|---|---|---|---|---|---|---|---|---|---|---|---|\n",
       "| 1879 | 44.3 | 43.7 | 57.6 | 58.9 | 69.8 | 74.9 | 79.6 | 73.9 | 68.7 | 64.3 | 53.9 | 51.5 | 61.8 |\n",
       "| 1880 | 54.3 | 51.4 | 55.5 | 63.4 | 71.0 | 76.5 | 79.2 | 76.8 | 69.4 | 60.8 | 47.2 | 42.1 | 62.3 |\n",
       "| 1881 | 40.1 | 46.6 | 49.1 | 59.1 | 70.8 | 77.8 | 81.1 | 78.8 | 75.5 | 67.2 | 52.6 | 49.6 | 62.4 |\n",
       "| 1882 | 48.8 | 52.4 | 57.4 | 64.8 | 66.1 | 76.6 | 75.9 | 75.8 | 71.7 | 65.8 | 51.1 | 41.4 | 62.3 |\n",
       "| 1883 | 43.0 | 50.2 | 50.2 | 61.6 | 67.4 | 76.4 | 80.1 | 76.2 | 71.3 | 66.0 | 53.7 | 48.0 | 62.0 |\n",
       "| 1884 | 35.9 | 51.7 | 54.4 | 58.4 | 70.7 | 71.1 | 77.7 | 75.3 | 74.9 | 68.1 | 51.3 | 44.5 | 61.2 |\n",
       "\n"
      ],
      "text/plain": [
       "  Year Jan  Feb  Mar  Apr  May  Jun  Jul  Aug  Sep  Oct  Nov  Dec  Annual\n",
       "1 1879 44.3 43.7 57.6 58.9 69.8 74.9 79.6 73.9 68.7 64.3 53.9 51.5 61.8  \n",
       "2 1880 54.3 51.4 55.5 63.4 71.0 76.5 79.2 76.8 69.4 60.8 47.2 42.1 62.3  \n",
       "3 1881 40.1 46.6 49.1 59.1 70.8 77.8 81.1 78.8 75.5 67.2 52.6 49.6 62.4  \n",
       "4 1882 48.8 52.4 57.4 64.8 66.1 76.6 75.9 75.8 71.7 65.8 51.1 41.4 62.3  \n",
       "5 1883 43.0 50.2 50.2 61.6 67.4 76.4 80.1 76.2 71.3 66.0 53.7 48.0 62.0  \n",
       "6 1884 35.9 51.7 54.4 58.4 70.7 71.1 77.7 75.3 74.9 68.1 51.3 44.5 61.2  "
      ]
     },
     "metadata": {},
     "output_type": "display_data"
    },
    {
     "data": {
      "text/html": [
       "<ol class=list-inline>\n",
       "\t<li>'Year'</li>\n",
       "\t<li>'Jan'</li>\n",
       "\t<li>'Feb'</li>\n",
       "\t<li>'Mar'</li>\n",
       "\t<li>'Apr'</li>\n",
       "\t<li>'May'</li>\n",
       "\t<li>'Jun'</li>\n",
       "\t<li>'Jul'</li>\n",
       "\t<li>'Aug'</li>\n",
       "\t<li>'Sep'</li>\n",
       "\t<li>'Oct'</li>\n",
       "\t<li>'Nov'</li>\n",
       "\t<li>'Dec'</li>\n",
       "\t<li>'Annual'</li>\n",
       "</ol>\n"
      ],
      "text/latex": [
       "\\begin{enumerate*}\n",
       "\\item 'Year'\n",
       "\\item 'Jan'\n",
       "\\item 'Feb'\n",
       "\\item 'Mar'\n",
       "\\item 'Apr'\n",
       "\\item 'May'\n",
       "\\item 'Jun'\n",
       "\\item 'Jul'\n",
       "\\item 'Aug'\n",
       "\\item 'Sep'\n",
       "\\item 'Oct'\n",
       "\\item 'Nov'\n",
       "\\item 'Dec'\n",
       "\\item 'Annual'\n",
       "\\end{enumerate*}\n"
      ],
      "text/markdown": [
       "1. 'Year'\n",
       "2. 'Jan'\n",
       "3. 'Feb'\n",
       "4. 'Mar'\n",
       "5. 'Apr'\n",
       "6. 'May'\n",
       "7. 'Jun'\n",
       "8. 'Jul'\n",
       "9. 'Aug'\n",
       "10. 'Sep'\n",
       "11. 'Oct'\n",
       "12. 'Nov'\n",
       "13. 'Dec'\n",
       "14. 'Annual'\n",
       "\n",
       "\n"
      ],
      "text/plain": [
       " [1] \"Year\"   \"Jan\"    \"Feb\"    \"Mar\"    \"Apr\"    \"May\"    \"Jun\"    \"Jul\"   \n",
       " [9] \"Aug\"    \"Sep\"    \"Oct\"    \"Nov\"    \"Dec\"    \"Annual\""
      ]
     },
     "metadata": {},
     "output_type": "display_data"
    }
   ],
   "source": [
    "data=read.table(\"AvTempAtlanta.txt\",header=T)\n",
    "head(data)\n",
    "names(data)"
   ]
  },
  {
   "cell_type": "code",
   "execution_count": 2,
   "metadata": {},
   "outputs": [
    {
     "data": {
      "image/png": "[encoded data removed]",
      "text/plain": [
       "plot without title"
      ]
     },
     "metadata": {},
     "output_type": "display_data"
    }
   ],
   "source": [
    "temp=as.vector(t(data[,-c(1,14)]))\n",
    "temp=ts(temp,start = 1879,frequency = 12)\n",
    "#?ts #time series objects\n",
    "ts.plot(temp,ylab=\"Temperature\")"
   ]
  },
  {
   "cell_type": "markdown",
   "metadata": {},
   "source": [
    "# pre-define time points"
   ]
  },
  {
   "cell_type": "code",
   "execution_count": 3,
   "metadata": {},
   "outputs": [],
   "source": [
    "##create eaually spaced time points for fitting trends\n",
    "time.pts=c(1:length(temp))\n",
    "time.pts=c(time.pts-min(time.pts))/max(time.pts)"
   ]
  },
  {
   "cell_type": "markdown",
   "metadata": {},
   "source": [
    "# 1. Seasonal Means Model\n",
    "use `season` function in `TSA` library. To answer is there seasonality and trend in Temperature in Athlanta?\n",
    "\n",
    "This model is equivalent to ANOVA model where data are categorize into seasonal groups (month here)."
   ]
  },
  {
   "cell_type": "code",
   "execution_count": 4,
   "metadata": {},
   "outputs": [
    {
     "name": "stderr",
     "output_type": "stream",
     "text": [
      "Warning message:\n",
      "\"package 'TSA' was built under R version 3.6.1\"\n",
      "Attaching package: 'TSA'\n",
      "\n",
      "The following objects are masked from 'package:stats':\n",
      "\n",
      "    acf, arima\n",
      "\n",
      "The following object is masked from 'package:utils':\n",
      "\n",
      "    tar\n",
      "\n"
     ]
    }
   ],
   "source": [
    "library(TSA)"
   ]
  },
  {
   "cell_type": "markdown",
   "metadata": {},
   "source": [
    "This model omits the January coefficient. Then the Feb coefficient is interpreted as a difference between February and January average temperatures. The March coefficient is interpreted as the difference between March and Feb and so on. or we can fit the model without an intercept (model 2)."
   ]
  },
  {
   "cell_type": "code",
   "execution_count": 5,
   "metadata": {},
   "outputs": [
    {
     "data": {
      "text/plain": [
       "\n",
       "Call:\n",
       "lm(formula = temp ~ month)\n",
       "\n",
       "Residuals:\n",
       "     Min       1Q   Median       3Q      Max \n",
       "-13.9072  -1.9636  -0.0986   1.9437  12.5275 \n",
       "\n",
       "Coefficients:\n",
       "               Estimate Std. Error t value Pr(>|t|)    \n",
       "(Intercept)     43.2072     0.2725 158.534  < 2e-16 ***\n",
       "monthFebruary    2.7514     0.3854   7.139 1.41e-12 ***\n",
       "monthMarch      10.0232     0.3854  26.005  < 2e-16 ***\n",
       "monthApril      18.4014     0.3854  47.742  < 2e-16 ***\n",
       "monthMay        26.5623     0.3854  68.916  < 2e-16 ***\n",
       "monthJune       33.4913     0.3854  86.893  < 2e-16 ***\n",
       "monthJuly       35.7978     0.3854  92.877  < 2e-16 ***\n",
       "monthAugust     35.0630     0.3854  90.971  < 2e-16 ***\n",
       "monthSeptember  30.0913     0.3854  78.071  < 2e-16 ***\n",
       "monthOctober    19.7543     0.3854  51.252  < 2e-16 ***\n",
       "monthNovember    9.3420     0.3854  24.238  < 2e-16 ***\n",
       "monthDecember    1.8652     0.3854   4.839 1.43e-06 ***\n",
       "---\n",
       "Signif. codes:  0 '***' 0.001 '**' 0.01 '*' 0.05 '.' 0.1 ' ' 1\n",
       "\n",
       "Residual standard error: 3.202 on 1644 degrees of freedom\n",
       "Multiple R-squared:  0.943,\tAdjusted R-squared:  0.9427 \n",
       "F-statistic:  2474 on 11 and 1644 DF,  p-value: < 2.2e-16\n"
      ]
     },
     "metadata": {},
     "output_type": "display_data"
    }
   ],
   "source": [
    "# Estimate seasonality\n",
    "month=season(temp) #12 dummy variable\n",
    "#Drop January / with intercept\n",
    "model1=lm(temp~month)\n",
    "summary(model1)"
   ]
  },
  {
   "cell_type": "code",
   "execution_count": 6,
   "metadata": {},
   "outputs": [
    {
     "data": {
      "text/plain": [
       "\n",
       "Call:\n",
       "lm(formula = temp ~ month - 1)\n",
       "\n",
       "Residuals:\n",
       "     Min       1Q   Median       3Q      Max \n",
       "-13.9072  -1.9636  -0.0986   1.9437  12.5275 \n",
       "\n",
       "Coefficients:\n",
       "               Estimate Std. Error t value Pr(>|t|)    \n",
       "monthJanuary    43.2072     0.2725   158.5   <2e-16 ***\n",
       "monthFebruary   45.9587     0.2725   168.6   <2e-16 ***\n",
       "monthMarch      53.2304     0.2725   195.3   <2e-16 ***\n",
       "monthApril      61.6087     0.2725   226.1   <2e-16 ***\n",
       "monthMay        69.7696     0.2725   256.0   <2e-16 ***\n",
       "monthJune       76.6986     0.2725   281.4   <2e-16 ***\n",
       "monthJuly       79.0051     0.2725   289.9   <2e-16 ***\n",
       "monthAugust     78.2703     0.2725   287.2   <2e-16 ***\n",
       "monthSeptember  73.2986     0.2725   268.9   <2e-16 ***\n",
       "monthOctober    62.9616     0.2725   231.0   <2e-16 ***\n",
       "monthNovember   52.5493     0.2725   192.8   <2e-16 ***\n",
       "monthDecember   45.0725     0.2725   165.4   <2e-16 ***\n",
       "---\n",
       "Signif. codes:  0 '***' 0.001 '**' 0.01 '*' 0.05 '.' 0.1 ' ' 1\n",
       "\n",
       "Residual standard error: 3.202 on 1644 degrees of freedom\n",
       "Multiple R-squared:  0.9975,\tAdjusted R-squared:  0.9974 \n",
       "F-statistic: 5.369e+04 on 12 and 1644 DF,  p-value: < 2.2e-16\n"
      ]
     },
     "metadata": {},
     "output_type": "display_data"
    }
   ],
   "source": [
    "#seasonal mean effects/without intercept\n",
    "model2=lm(temp~month-1)\n",
    "summary(model2)"
   ]
  },
  {
   "cell_type": "markdown",
   "metadata": {},
   "source": [
    "# 2. Cos-Sin model\n",
    "we use `harmonic` function, a matrix consisting of $\\cos(2k\\pi t)$, $\\sin(2k\\pi t)$, $k=1,2,...,m$. Adding additional cosine curves (model 4) will sometimes improve the fit. We can evaluate then significance of the model parameters or using a model selection criteria."
   ]
  },
  {
   "cell_type": "code",
   "execution_count": 7,
   "metadata": {},
   "outputs": [],
   "source": [
    "har1=harmonic(temp,1)\n",
    "model3=lm(temp~har1)\n",
    "har2=harmonic(temp,2)\n",
    "model4=lm(temp~har2)"
   ]
  },
  {
   "cell_type": "code",
   "execution_count": 8,
   "metadata": {},
   "outputs": [
    {
     "data": {
      "text/plain": [
       "\n",
       "Call:\n",
       "lm(formula = temp ~ har1)\n",
       "\n",
       "Residuals:\n",
       "     Min       1Q   Median       3Q      Max \n",
       "-14.2003  -2.0059  -0.2022   2.0005  12.4493 \n",
       "\n",
       "Coefficients:\n",
       "                 Estimate Std. Error  t value Pr(>|t|)    \n",
       "(Intercept)      61.80254    0.08133  759.870  < 2e-16 ***\n",
       "har1cos(2*pi*t) -18.30228    0.11502 -159.119  < 2e-16 ***\n",
       "har1sin(2*pi*t)  -0.69366    0.11502   -6.031 2.01e-09 ***\n",
       "---\n",
       "Signif. codes:  0 '***' 0.001 '**' 0.01 '*' 0.05 '.' 0.1 ' ' 1\n",
       "\n",
       "Residual standard error: 3.31 on 1653 degrees of freedom\n",
       "Multiple R-squared:  0.9388,\tAdjusted R-squared:  0.9387 \n",
       "F-statistic: 1.268e+04 on 2 and 1653 DF,  p-value: < 2.2e-16\n"
      ]
     },
     "metadata": {},
     "output_type": "display_data"
    }
   ],
   "source": [
    "summary(model3)"
   ]
  },
  {
   "cell_type": "code",
   "execution_count": 9,
   "metadata": {},
   "outputs": [
    {
     "data": {
      "text/plain": [
       "\n",
       "Call:\n",
       "lm(formula = temp ~ har2)\n",
       "\n",
       "Residuals:\n",
       "     Min       1Q   Median       3Q      Max \n",
       "-13.5699  -2.0031  -0.1105   1.9524  12.5301 \n",
       "\n",
       "Coefficients:\n",
       "                 Estimate Std. Error  t value Pr(>|t|)    \n",
       "(Intercept)      61.80254    0.07888  783.490  < 2e-16 ***\n",
       "har2cos(2*pi*t) -18.30228    0.11155 -164.065  < 2e-16 ***\n",
       "har2cos(4*pi*t)  -0.63031    0.11155   -5.650 1.88e-08 ***\n",
       "har2sin(2*pi*t)  -0.69366    0.11155   -6.218 6.36e-10 ***\n",
       "har2sin(4*pi*t)   0.96246    0.11155    8.628  < 2e-16 ***\n",
       "---\n",
       "Signif. codes:  0 '***' 0.001 '**' 0.01 '*' 0.05 '.' 0.1 ' ' 1\n",
       "\n",
       "Residual standard error: 3.21 on 1651 degrees of freedom\n",
       "Multiple R-squared:  0.9425,\tAdjusted R-squared:  0.9424 \n",
       "F-statistic:  6766 on 4 and 1651 DF,  p-value: < 2.2e-16\n"
      ]
     },
     "metadata": {},
     "output_type": "display_data"
    }
   ],
   "source": [
    "summary(model4)"
   ]
  },
  {
   "cell_type": "markdown",
   "metadata": {},
   "source": [
    "**Comments for 4 models:**\n",
    "\n",
    "* model 2: seasonal means model without intercept\n",
    "\n",
    "We can see that Month July and August are the hottest month whereas January is the coldest. We see also the $R^2$ of this model is 99.7% variability explained in this model. That is to say that seasonality explains most of the variability in the monthly average temperature over years.\n",
    "\n",
    "* model 3 and 4: Cos-Sin Model\n",
    "\n",
    "In the model4 we added one more set of cons-sin harmonics. The first set of the harmonics are similar in 2 models moreover, the second set of harmonics in model4 have statistically significant coefficients.\n",
    "\n",
    "Adjusted $R^2$ increases in model4 indicate that perhaps it improves the fit of the seasonality.\n"
   ]
  },
  {
   "cell_type": "markdown",
   "metadata": {},
   "source": [
    "# 3. compare models\n",
    "\n",
    "Here we compare the 2 models (model 2 for seasonal means model and model 4 for cos-sin model). Both are very similar in fitting the seasonality. \n",
    "\n",
    "Because the fit is almost the same we would prefer the model with fewer regression coefficients particularly the cos-sin model."
   ]
  },
  {
   "cell_type": "code",
   "execution_count": 10,
   "metadata": {},
   "outputs": [
    {
     "data": {
      "image/png": "[encoded data removed]",
      "text/plain": [
       "plot without title"
      ]
     },
     "metadata": {},
     "output_type": "display_data"
    }
   ],
   "source": [
    "## seasonal means model\n",
    "st1=coef(model2)\n",
    "## cos-sin model\n",
    "st2=fitted(model4)[1:12]\n",
    "## compare seasonality estimates\n",
    "plot(1:12,st1,lwd=2,type=\"l\",xlab=\"Month\", ylab=\"Seasonality\")\n",
    "lines(1:12,st2,lwd=2,col=\"brown\")"
   ]
  },
  {
   "cell_type": "markdown",
   "metadata": {},
   "source": [
    "# 4. Seasonality & Trend\n",
    "We consider the simplest parametric model where we consider a quadratic trend and seasonality modeled using the cosine-sine model. Eventually we plot the time series without the trend and seasonality tha is only plot the residual."
   ]
  },
  {
   "cell_type": "code",
   "execution_count": 11,
   "metadata": {},
   "outputs": [
    {
     "data": {
      "text/plain": [
       "\n",
       "Call:\n",
       "lm(formula = temp ~ x1 + x2 + har2)\n",
       "\n",
       "Residuals:\n",
       "     Min       1Q   Median       3Q      Max \n",
       "-13.8242  -1.9505  -0.1554   1.9744  12.7916 \n",
       "\n",
       "Coefficients:\n",
       "                Estimate Std. Error  t value Pr(>|t|)    \n",
       "(Intercept)      61.4620     0.2324  264.456  < 2e-16 ***\n",
       "x1               -1.6526     1.0741   -1.538 0.124119    \n",
       "x2                3.5021     1.0406    3.365 0.000782 ***\n",
       "har2cos(2*pi*t) -18.3012     0.1097 -166.844  < 2e-16 ***\n",
       "har2cos(4*pi*t)  -0.6292     0.1097   -5.736 1.15e-08 ***\n",
       "har2sin(2*pi*t)  -0.6895     0.1097   -6.286 4.17e-10 ***\n",
       "har2sin(4*pi*t)   0.9644     0.1097    8.792  < 2e-16 ***\n",
       "---\n",
       "Signif. codes:  0 '***' 0.001 '**' 0.01 '*' 0.05 '.' 0.1 ' ' 1\n",
       "\n",
       "Residual standard error: 3.156 on 1649 degrees of freedom\n",
       "Multiple R-squared:  0.9445,\tAdjusted R-squared:  0.9443 \n",
       "F-statistic:  4675 on 6 and 1649 DF,  p-value: < 2.2e-16\n"
      ]
     },
     "metadata": {},
     "output_type": "display_data"
    },
    {
     "data": {
      "image/png": "[encoded data removed]",
      "text/plain": [
       "plot without title"
      ]
     },
     "metadata": {},
     "output_type": "display_data"
    }
   ],
   "source": [
    "x1=time.pts\n",
    "x2=time.pts^2\n",
    "har2=harmonic(temp,2)\n",
    "lm.fit=lm(temp~x1+x2+har2)\n",
    "summary(lm.fit)\n",
    "\n",
    "dif.fit.lm=ts((temp-fitted(lm.fit)),start=1879,frequency=12)\n",
    "ts.plot(dif.fit.lm,ylab=\"Residual Process\")"
   ]
  },
  {
   "cell_type": "markdown",
   "metadata": {},
   "source": [
    "we can try also to fit a non-parametric trend along with the seasonality (cos-sin model)"
   ]
  },
  {
   "cell_type": "code",
   "execution_count": 12,
   "metadata": {},
   "outputs": [
    {
     "name": "stderr",
     "output_type": "stream",
     "text": [
      "Warning message:\n",
      "\"package 'mgcv' was built under R version 3.6.1\"Loading required package: nlme\n",
      "Warning message:\n",
      "\"package 'nlme' was built under R version 3.6.1\"This is mgcv 1.8-28. For overview type 'help(\"mgcv-package\")'.\n"
     ]
    }
   ],
   "source": [
    "library(mgcv)\n",
    "# splines trend estimation (gam)\n",
    "gam.fit=gam(temp~s(time.pts)+har2)\n",
    "dif.fit.gam=ts((temp-fitted(gam.fit)),start=1879,frequency=12)"
   ]
  },
  {
   "cell_type": "code",
   "execution_count": 13,
   "metadata": {},
   "outputs": [
    {
     "data": {
      "image/png": "[encoded data removed]",
      "text/plain": [
       "plot without title"
      ]
     },
     "metadata": {},
     "output_type": "display_data"
    }
   ],
   "source": [
    "#compare 2\n",
    "ts.plot(dif.fit.lm,ylab=\"Residual process\", col=\"brown\")\n",
    "lines(dif.fit.gam,col=\"blue\")"
   ]
  },
  {
   "cell_type": "markdown",
   "metadata": {},
   "source": [
    "Brown is the process for parametric model and blue is from the non-parametric model. The difference are small in 2 different approaches.\n",
    "\n",
    "Further we can study the way to evaluate whether such process is stationary (whether the trend and seasonality components have been removed)."
   ]
  },
  {
   "cell_type": "markdown",
   "metadata": {},
   "source": [
    "# 5. Autocorrelation Functions\n",
    "with `ACF` functions in R"
   ]
  },
  {
   "cell_type": "code",
   "execution_count": 14,
   "metadata": {},
   "outputs": [
    {
     "data": {
      "image/png": "[encoded data removed]",
      "text/plain": [
       "Plot with title \"\""
      ]
     },
     "metadata": {},
     "output_type": "display_data"
    },
    {
     "data": {
      "image/png": "[encoded data removed]",
      "text/plain": [
       "Plot with title \"\""
      ]
     },
     "metadata": {},
     "output_type": "display_data"
    },
    {
     "data": {
      "image/png": "[encoded data removed]",
      "text/plain": [
       "Plot with title \"\""
      ]
     },
     "metadata": {},
     "output_type": "display_data"
    }
   ],
   "source": [
    "## ACF for the temperature time series\n",
    "acf(temp,lag.max=12*4,main=\"\")\n",
    "## ACF for the residual process\n",
    "acf(dif.fit.lm,lag.max=12*4,main=\"\")\n",
    "acf(dif.fit.gam,lag.max=12*4,main=\"\")\n"
   ]
  },
  {
   "cell_type": "markdown",
   "metadata": {},
   "source": [
    "**Comment:**\n",
    "\n",
    "The ACF (autocorrelation function) without reducing trend and seasonality (graph 1) shows a clear seasonality pattern. but the trend cannot be seen from this plot since it is slowly changing over the years.\n",
    "\n",
    "The ACF plot for the residual from the parametric approach (graph 2) we can see that the seasonality is not present anymore. we still observe some cyclical pattern over time. Moreover most of the ACF values are positive showing some bias in the estimation of trend or cyclical pattern.\n",
    "\n",
    "Last graph is the ACF plot for the residual where the trend is eliminated using non-parametric regression. ACF plot doesn't have a cyclical pattern like the previous residual plot, it shows less bias in the removal of the trend and cyclical pattern."
   ]
  }
 ],
 "metadata": {
  "kernelspec": {
   "display_name": "R",
   "language": "R",
   "name": "ir"
  },
  "language_info": {
   "codemirror_mode": "r",
   "file_extension": ".r",
   "mimetype": "text/x-r-source",
   "name": "R",
   "pygments_lexer": "r",
   "version": "3.6.0"
  }
 },
 "nbformat": 4,
 "nbformat_minor": 2
}
