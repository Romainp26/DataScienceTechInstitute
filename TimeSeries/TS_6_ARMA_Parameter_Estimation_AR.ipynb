{
 "cells": [
  {
   "cell_type": "markdown",
   "metadata": {},
   "source": [
    "# Parameter Estimation: simlutation example\n",
    "\n",
    "## 1. AR model: linear regression\n"
   ]
  },
  {
   "cell_type": "markdown",
   "metadata": {},
   "source": [
    "### 1.1 AR(2) stationary"
   ]
  },
  {
   "cell_type": "code",
   "execution_count": 1,
   "metadata": {},
   "outputs": [],
   "source": [
    "# AR(2) process simulation: stationary\n",
    "w2=rnorm(1500)\n",
    "b=c(1.2,-0.5)\n",
    "ar2=filter(w2,filter=b,method='recursive')\n",
    "ar2=ar2[1001:1500]"
   ]
  },
  {
   "cell_type": "code",
   "execution_count": 2,
   "metadata": {},
   "outputs": [
    {
     "data": {
      "text/plain": [
       "\n",
       "Call:\n",
       "lm(formula = y ~ x1 + x2, data = data2)\n",
       "\n",
       "Residuals:\n",
       "     Min       1Q   Median       3Q      Max \n",
       "-3.12759 -0.73578  0.03242  0.64283  2.80423 \n",
       "\n",
       "Coefficients:\n",
       "            Estimate Std. Error t value Pr(>|t|)    \n",
       "(Intercept)  0.06951    0.04580   1.518     0.13    \n",
       "x1          -0.50912    0.03873 -13.147   <2e-16 ***\n",
       "x2           1.19173    0.03873  30.770   <2e-16 ***\n",
       "---\n",
       "Signif. codes:  0 '***' 0.001 '**' 0.01 '*' 0.05 '.' 0.1 ' ' 1\n",
       "\n",
       "Residual standard error: 1.014 on 495 degrees of freedom\n",
       "Multiple R-squared:  0.7207,\tAdjusted R-squared:  0.7196 \n",
       "F-statistic: 638.8 on 2 and 495 DF,  p-value: < 2.2e-16\n"
      ]
     },
     "metadata": {},
     "output_type": "display_data"
    }
   ],
   "source": [
    "#Fit linear regression to AR(2)\n",
    "data2=data.frame(cbind(x1=ar2[1:498],x2=ar2[2:499],y=ar2[3:500]))\n",
    "model2=lm(y~x1+x2,data=data2)\n",
    "summary(model2)"
   ]
  },
  {
   "cell_type": "markdown",
   "metadata": {},
   "source": [
    "**Comment:**\n",
    "\n",
    "x1 refer to $x_{t-2}$, x2 refer to $x_{t-1}$. The model of the mosel are slightly similar with some variations from the simulating model\n",
    "$X_t=1.2X_{t-1}-0.5X_{t-2}$\n",
    "\n",
    "p-value are very small indicating that the regression coefficients corresponding to those predictors are statistically significant.\n",
    "\n",
    "We can furthur use the **T-test** to evaluate whether the coefficients are plausibly equal to the true parameters.\n",
    "\n",
    "$H_0: \\beta_1=-0.5$ vs $H_1: \\beta_1\\ne -0.5$\n"
   ]
  },
  {
   "cell_type": "code",
   "execution_count": 3,
   "metadata": {},
   "outputs": [
    {
     "data": {
      "text/html": [
       "0.0387260145995716"
      ],
      "text/latex": [
       "0.0387260145995716"
      ],
      "text/markdown": [
       "0.0387260145995716"
      ],
      "text/plain": [
       "[1] 0.03872601"
      ]
     },
     "metadata": {},
     "output_type": "display_data"
    }
   ],
   "source": [
    "coef(summary(model2))[2,2]"
   ]
  },
  {
   "cell_type": "code",
   "execution_count": 4,
   "metadata": {},
   "outputs": [
    {
     "data": {
      "text/html": [
       "1.18612078690641"
      ],
      "text/latex": [
       "1.18612078690641"
      ],
      "text/markdown": [
       "1.18612078690641"
      ],
      "text/plain": [
       "[1] 1.186121"
      ]
     },
     "metadata": {},
     "output_type": "display_data"
    }
   ],
   "source": [
    "t.value=(model2$coefficients[[2]]-(-0.5))/coef(summary(model2))[2,2]\n",
    "p.value=2*(1-pnorm(t.value))\n",
    "p.value"
   ]
  },
  {
   "cell_type": "markdown",
   "metadata": {},
   "source": [
    "P-value is large indicate that we do not reject $H_0$\n",
    "\n",
    "**Plot the AR model and the residual**"
   ]
  },
  {
   "cell_type": "code",
   "execution_count": 5,
   "metadata": {},
   "outputs": [
    {
     "data": {
      "image/png": "[encoded data removed]",
      "text/plain": [
       "Plot with title \"PACF of residuals\""
      ]
     },
     "metadata": {},
     "output_type": "display_data"
    }
   ],
   "source": [
    "par(mfrow=c(2,2))\n",
    "ts.plot(ar2,ylab='AR(2) Time series')\n",
    "pacf(ar2, main='PACF of AR(2)')\n",
    "\n",
    "ts.plot(model2$residuals,ylab='Residuals')\n",
    "pacf(model2$residuals, main='PACF of residuals')"
   ]
  },
  {
   "cell_type": "markdown",
   "metadata": {},
   "source": [
    "The PACF plot for the residuals has all of the bars within the confidence band. Indicating that the PACF is plausibly close to 0 for\n",
    "all lags, an indication of an AR(0) or a white noise process. Thus, a linear regression provides a good fit for the AR model.\n",
    "\n",
    "### 1.2 AR(1) model fitted with AR(2) linear regresson"
   ]
  },
  {
   "cell_type": "code",
   "execution_count": 6,
   "metadata": {},
   "outputs": [],
   "source": [
    "w2=rnorm(1500)\n",
    "b=0.5\n",
    "ar1=filter(w2,filter=b, method='recursive')\n",
    "ar1=ar1[1001:1500]"
   ]
  },
  {
   "cell_type": "code",
   "execution_count": 7,
   "metadata": {},
   "outputs": [
    {
     "data": {
      "text/plain": [
       "\n",
       "Call:\n",
       "lm(formula = y ~ x1 + x2, data = data3)\n",
       "\n",
       "Residuals:\n",
       "     Min       1Q   Median       3Q      Max \n",
       "-3.06246 -0.71134 -0.00945  0.66184  2.49403 \n",
       "\n",
       "Coefficients:\n",
       "             Estimate Std. Error t value Pr(>|t|)    \n",
       "(Intercept)  0.005349   0.044901   0.119    0.905    \n",
       "x1          -0.021545   0.044957  -0.479    0.632    \n",
       "x2           0.425160   0.044971   9.454   <2e-16 ***\n",
       "---\n",
       "Signif. codes:  0 '***' 0.001 '**' 0.01 '*' 0.05 '.' 0.1 ' ' 1\n",
       "\n",
       "Residual standard error: 1.002 on 495 degrees of freedom\n",
       "Multiple R-squared:  0.1734,\tAdjusted R-squared:   0.17 \n",
       "F-statistic: 51.91 on 2 and 495 DF,  p-value: < 2.2e-16\n"
      ]
     },
     "metadata": {},
     "output_type": "display_data"
    }
   ],
   "source": [
    "data3=data.frame(cbind(x1=ar1[1:498],x2=ar1[2:499],y=ar1[3:500]))\n",
    "model3=lm(y~x1+x2,data=data3)\n",
    "summary(model3)"
   ]
  },
  {
   "cell_type": "markdown",
   "metadata": {},
   "source": [
    "**Comment:**\n",
    "\n",
    "The coefficient of $X_2$ is close to 0.5 the true parameter. Onthe other hand, the coefficent for $X_1$ is 0.04 and the p-value is large indicating that this coefficient is plausibly 0. Thus the mode fit suggest an AR(1) model."
   ]
  },
  {
   "cell_type": "markdown",
   "metadata": {},
   "source": [
    "# 2. method of moments\n",
    "which is the **Yule-Walker** estimation approach for AR model. Here we try to fit the AR(3) to an AR(2) model."
   ]
  },
  {
   "cell_type": "code",
   "execution_count": 21,
   "metadata": {},
   "outputs": [],
   "source": [
    "w2=rnorm(1500)\n",
    "b=c(1.2,-0.5)\n",
    "ar2=filter(w2,filter=b,method='recursive')\n",
    "ar2=ar2[1001:1500]\n",
    "\n",
    "## Fit AR(3) to an AR(2) model\n",
    "# From gamma(1) and gamma_3 Matrix\n",
    "covf=acf(ar2,type='covariance',plot=FALSE)\n",
    "Gamma1=covf$acf[2:4,,1]\n",
    "Gammamatrix=matrix(0,3,3)\n",
    "for (i in 1:3){\n",
    "    if(i>1){\n",
    "        Gammamatrix[i,]=c(covf$acf[i:2,,1],covf$acf[1:(3-i+1),,1])\n",
    "    }\n",
    "    else{\n",
    "        Gammamatrix[i,]=covf$acf[1:(3-1+1),,1]\n",
    "    }\n",
    "}\n",
    "## Estimate phi\n",
    "phi.estim=solve(Gammamatrix,Gamma1)"
   ]
  },
  {
   "cell_type": "code",
   "execution_count": 25,
   "metadata": {},
   "outputs": [
    {
     "data": {
      "text/html": [
       "<table>\n",
       "<caption>A matrix: 3 × 3 of type dbl</caption>\n",
       "<tbody>\n",
       "\t<tr><td>4.214210</td><td>3.383685</td><td>1.913050</td></tr>\n",
       "\t<tr><td>3.383685</td><td>4.214210</td><td>3.383685</td></tr>\n",
       "\t<tr><td>1.913050</td><td>3.383685</td><td>4.214210</td></tr>\n",
       "</tbody>\n",
       "</table>\n"
      ],
      "text/latex": [
       "A matrix: 3 × 3 of type dbl\n",
       "\\begin{tabular}{lll}\n",
       "\t 4.214210 & 3.383685 & 1.913050\\\\\n",
       "\t 3.383685 & 4.214210 & 3.383685\\\\\n",
       "\t 1.913050 & 3.383685 & 4.214210\\\\\n",
       "\\end{tabular}\n"
      ],
      "text/markdown": [
       "\n",
       "A matrix: 3 × 3 of type dbl\n",
       "\n",
       "| 4.214210 | 3.383685 | 1.913050 |\n",
       "| 3.383685 | 4.214210 | 3.383685 |\n",
       "| 1.913050 | 3.383685 | 4.214210 |\n",
       "\n"
      ],
      "text/plain": [
       "     [,1]     [,2]     [,3]    \n",
       "[1,] 4.214210 3.383685 1.913050\n",
       "[2,] 3.383685 4.214210 3.383685\n",
       "[3,] 1.913050 3.383685 4.214210"
      ]
     },
     "metadata": {},
     "output_type": "display_data"
    },
    {
     "data": {
      "text/html": [
       "<ol class=list-inline>\n",
       "\t<li>3.3836850086106</li>\n",
       "\t<li>1.9130500977578</li>\n",
       "\t<li>0.530954305535139</li>\n",
       "</ol>\n"
      ],
      "text/latex": [
       "\\begin{enumerate*}\n",
       "\\item 3.3836850086106\n",
       "\\item 1.9130500977578\n",
       "\\item 0.530954305535139\n",
       "\\end{enumerate*}\n"
      ],
      "text/markdown": [
       "1. 3.3836850086106\n",
       "2. 1.9130500977578\n",
       "3. 0.530954305535139\n",
       "\n",
       "\n"
      ],
      "text/plain": [
       "[1] 3.3836850 1.9130501 0.5309543"
      ]
     },
     "metadata": {},
     "output_type": "display_data"
    },
    {
     "data": {
      "text/html": [
       "<ol class=list-inline>\n",
       "\t<li>1.22725336246296</li>\n",
       "\t<li>-0.521449665241829</li>\n",
       "\t<li>-0.0124392106353433</li>\n",
       "</ol>\n"
      ],
      "text/latex": [
       "\\begin{enumerate*}\n",
       "\\item 1.22725336246296\n",
       "\\item -0.521449665241829\n",
       "\\item -0.0124392106353433\n",
       "\\end{enumerate*}\n"
      ],
      "text/markdown": [
       "1. 1.22725336246296\n",
       "2. -0.521449665241829\n",
       "3. -0.0124392106353433\n",
       "\n",
       "\n"
      ],
      "text/plain": [
       "[1]  1.22725336 -0.52144967 -0.01243921"
      ]
     },
     "metadata": {},
     "output_type": "display_data"
    }
   ],
   "source": [
    "Gammamatrix\n",
    "Gamma1\n",
    "phi.estim"
   ]
  },
  {
   "cell_type": "markdown",
   "metadata": {},
   "source": [
    "`phi.estim` result is not far from the estimated model $AR(2): X_t=1.2X_{t-1}-0.5X_{t-2}+Z_t$"
   ]
  }
 ],
 "metadata": {
  "kernelspec": {
   "display_name": "R",
   "language": "R",
   "name": "ir"
  },
  "language_info": {
   "codemirror_mode": "r",
   "file_extension": ".r",
   "mimetype": "text/x-r-source",
   "name": "R",
   "pygments_lexer": "r",
   "version": "3.6.0"
  }
 },
 "nbformat": 4,
 "nbformat_minor": 2
}
