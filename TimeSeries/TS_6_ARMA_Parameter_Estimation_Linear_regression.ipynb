{
 "cells": [
  {
   "cell_type": "markdown",
   "metadata": {},
   "source": [
    "# Parameter Estimation: simlutation example\n",
    "\n",
    "## 1. AR model: linear regression\n"
   ]
  },
  {
   "cell_type": "markdown",
   "metadata": {},
   "source": [
    "### 1.1 AR(2) stationary"
   ]
  },
  {
   "cell_type": "code",
   "execution_count": 1,
   "metadata": {},
   "outputs": [],
   "source": [
    "# AR(2) process simulation: stationary\n",
    "w2=rnorm(1500)\n",
    "b=c(1.2,-0.5)\n",
    "ar2=filter(w2,filter=b,method='recursive')\n",
    "ar2=ar2[1001:1500]"
   ]
  },
  {
   "cell_type": "code",
   "execution_count": 4,
   "metadata": {},
   "outputs": [
    {
     "data": {
      "text/plain": [
       "\n",
       "Call:\n",
       "lm(formula = y ~ x1 + x2, data = data2)\n",
       "\n",
       "Residuals:\n",
       "     Min       1Q   Median       3Q      Max \n",
       "-2.56680 -0.69409 -0.04626  0.65602  2.91921 \n",
       "\n",
       "Coefficients:\n",
       "            Estimate Std. Error t value Pr(>|t|)    \n",
       "(Intercept) -0.07911    0.04614  -1.715    0.087 .  \n",
       "x1          -0.54184    0.03762 -14.402   <2e-16 ***\n",
       "x2           1.25897    0.03776  33.343   <2e-16 ***\n",
       "---\n",
       "Signif. codes:  0 '***' 0.001 '**' 0.01 '*' 0.05 '.' 0.1 ' ' 1\n",
       "\n",
       "Residual standard error: 1.019 on 495 degrees of freedom\n",
       "Multiple R-squared:  0.7647,\tAdjusted R-squared:  0.7637 \n",
       "F-statistic: 804.2 on 2 and 495 DF,  p-value: < 2.2e-16\n"
      ]
     },
     "metadata": {},
     "output_type": "display_data"
    }
   ],
   "source": [
    "#Fit linear regression to AR(2)\n",
    "data2=data.frame(cbind(x1=ar2[1:498],x2=ar2[2:499],y=ar2[3:500]))\n",
    "model2=lm(y~x1+x2,data=data2)\n",
    "summary(model2)"
   ]
  },
  {
   "cell_type": "markdown",
   "metadata": {},
   "source": [
    "**Comment:**\n",
    "\n",
    "x1 refer to $x_{t-2}$, x2 refer to $x_{t-1}$. The model of the mosel are slightly similar with some variations from the simulating model\n",
    "$X_t=1.2X_{t-1}-0.5X_{t-2}$\n",
    "\n",
    "p-value are very small indicating that the regression coefficients corresponding to those predictors are statistically significant.\n",
    "\n",
    "We can furthur use the **T-test** to evaluate whether the coefficients are plausibly equal to the true parameters.\n",
    "\n",
    "$H_0: \\beta_1=-0.5$ vs $H_1: \\beta_1\\ne -0.5$\n"
   ]
  },
  {
   "cell_type": "code",
   "execution_count": 17,
   "metadata": {},
   "outputs": [
    {
     "data": {
      "text/html": [
       "0.0376221215606579"
      ],
      "text/latex": [
       "0.0376221215606579"
      ],
      "text/markdown": [
       "0.0376221215606579"
      ],
      "text/plain": [
       "[1] 0.03762212"
      ]
     },
     "metadata": {},
     "output_type": "display_data"
    }
   ],
   "source": [
    "coef(summary(model2))[2,2]"
   ]
  },
  {
   "cell_type": "code",
   "execution_count": 19,
   "metadata": {},
   "outputs": [
    {
     "data": {
      "text/html": [
       "1.73388130573593"
      ],
      "text/latex": [
       "1.73388130573593"
      ],
      "text/markdown": [
       "1.73388130573593"
      ],
      "text/plain": [
       "[1] 1.733881"
      ]
     },
     "metadata": {},
     "output_type": "display_data"
    }
   ],
   "source": [
    "t.value=(model2$coefficients[[2]]-(-0.5))/coef(summary(model2))[2,2]\n",
    "p.value=2*(1-pnorm(t.value))\n",
    "p.value"
   ]
  },
  {
   "cell_type": "markdown",
   "metadata": {},
   "source": [
    "P-value is large indicate that we do not reject $H_0$\n",
    "\n",
    "**Plot the AR model and the residual**"
   ]
  },
  {
   "cell_type": "code",
   "execution_count": 29,
   "metadata": {},
   "outputs": [
    {
     "data": {
      "image/png": "[encoded data removed]",
      "text/plain": [
       "Plot with title \"PACF of residuals\""
      ]
     },
     "metadata": {},
     "output_type": "display_data"
    }
   ],
   "source": [
    "par(mfrow=c(2,2))\n",
    "ts.plot(ar2,ylab='AR(2) Time series')\n",
    "pacf(ar2, main='PACF of AR(2)')\n",
    "\n",
    "ts.plot(model2$residuals,ylab='Residuals')\n",
    "pacf(model2$residuals, main='PACF of residuals')"
   ]
  },
  {
   "cell_type": "markdown",
   "metadata": {},
   "source": [
    "The PACF plot for the residuals has all of the bars within the confidence band. Indicating that the PACF is plausibly close to 0 for\n",
    "all lags, an indication of an AR(0) or a white noise process. Thus, a linear regression provides a good fit for the AR model.\n",
    "\n",
    "### 1.2 AR(1) model fitted with AR(2) linear regresson"
   ]
  },
  {
   "cell_type": "code",
   "execution_count": 32,
   "metadata": {},
   "outputs": [],
   "source": [
    "w2=rnorm(1500)\n",
    "b=0.5\n",
    "ar1=filter(w2,filter=b, method='recursive')\n",
    "ar1=ar1[1001:1500]"
   ]
  },
  {
   "cell_type": "code",
   "execution_count": 33,
   "metadata": {},
   "outputs": [
    {
     "data": {
      "text/plain": [
       "\n",
       "Call:\n",
       "lm(formula = y ~ x1 + x2, data = data3)\n",
       "\n",
       "Residuals:\n",
       "    Min      1Q  Median      3Q     Max \n",
       "-3.2866 -0.6940  0.0403  0.6266  3.2851 \n",
       "\n",
       "Coefficients:\n",
       "             Estimate Std. Error t value Pr(>|t|)    \n",
       "(Intercept) -0.006957   0.045212  -0.154    0.878    \n",
       "x1           0.041265   0.044910   0.919    0.359    \n",
       "x2           0.472413   0.044913  10.518   <2e-16 ***\n",
       "---\n",
       "Signif. codes:  0 '***' 0.001 '**' 0.01 '*' 0.05 '.' 0.1 ' ' 1\n",
       "\n",
       "Residual standard error: 1.009 on 495 degrees of freedom\n",
       "Multiple R-squared:  0.2441,\tAdjusted R-squared:  0.241 \n",
       "F-statistic: 79.92 on 2 and 495 DF,  p-value: < 2.2e-16\n"
      ]
     },
     "metadata": {},
     "output_type": "display_data"
    }
   ],
   "source": [
    "data3=data.frame(cbind(x1=ar1[1:498],x2=ar1[2:499],y=ar1[3:500]))\n",
    "model3=lm(y~x1+x2,data=data3)\n",
    "summary(model3)"
   ]
  },
  {
   "cell_type": "markdown",
   "metadata": {},
   "source": [
    "**Comment:**\n",
    "\n",
    "The coefficient of $X_2$ is close to 0.5 the true parameter. Onthe other hand, the coefficent for $X_1$ is 0.04 and the p-value is large indicating that this coefficient is plausibly 0. Thus the mode fit suggest an AR(1) model."
   ]
  }
 ],
 "metadata": {
  "kernelspec": {
   "display_name": "R",
   "language": "R",
   "name": "ir"
  },
  "language_info": {
   "codemirror_mode": "r",
   "file_extension": ".r",
   "mimetype": "text/x-r-source",
   "name": "R",
   "pygments_lexer": "r",
   "version": "3.6.0"
  }
 },
 "nbformat": 4,
 "nbformat_minor": 2
}
