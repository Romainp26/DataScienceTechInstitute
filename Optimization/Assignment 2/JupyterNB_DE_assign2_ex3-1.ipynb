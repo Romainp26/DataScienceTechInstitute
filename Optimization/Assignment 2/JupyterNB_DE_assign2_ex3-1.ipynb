{
 "cells": [
  {
   "cell_type": "code",
   "execution_count": 1,
   "metadata": {},
   "outputs": [
    {
     "name": "stderr",
     "output_type": "stream",
     "text": [
      "Loading required package: foreach\n",
      "Loading required package: iterators\n",
      "Package 'GA' version 3.2.1\n",
      "Type 'citation(\"GA\")' for citing this R package in publications.\n",
      "\n",
      "Attaching package: 'GA'\n",
      "\n",
      "The following object is masked from 'package:utils':\n",
      "\n",
      "    de\n",
      "\n",
      "-- \u001b[1mAttaching packages\u001b[22m --------------------------------------- tidyverse 1.2.1 --\n",
      "\u001b[32mv\u001b[39m \u001b[34mggplot2\u001b[39m 3.2.0     \u001b[32mv\u001b[39m \u001b[34mpurrr  \u001b[39m 0.3.2\n",
      "\u001b[32mv\u001b[39m \u001b[34mtibble \u001b[39m 2.1.3     \u001b[32mv\u001b[39m \u001b[34mdplyr  \u001b[39m 0.8.1\n",
      "\u001b[32mv\u001b[39m \u001b[34mtidyr  \u001b[39m 0.8.3     \u001b[32mv\u001b[39m \u001b[34mstringr\u001b[39m 1.4.0\n",
      "\u001b[32mv\u001b[39m \u001b[34mreadr  \u001b[39m 1.3.1     \u001b[32mv\u001b[39m \u001b[34mforcats\u001b[39m 0.4.0\n",
      "-- \u001b[1mConflicts\u001b[22m ------------------------------------------ tidyverse_conflicts() --\n",
      "\u001b[31mx\u001b[39m \u001b[34mpurrr\u001b[39m::\u001b[32maccumulate()\u001b[39m masks \u001b[34mforeach\u001b[39m::accumulate()\n",
      "\u001b[31mx\u001b[39m \u001b[34mdplyr\u001b[39m::\u001b[32mfilter()\u001b[39m     masks \u001b[34mstats\u001b[39m::filter()\n",
      "\u001b[31mx\u001b[39m \u001b[34mdplyr\u001b[39m::\u001b[32mlag()\u001b[39m        masks \u001b[34mstats\u001b[39m::lag()\n",
      "\u001b[31mx\u001b[39m \u001b[34mpurrr\u001b[39m::\u001b[32mwhen()\u001b[39m       masks \u001b[34mforeach\u001b[39m::when()\n"
     ]
    }
   ],
   "source": [
    "library(\"GA\")\n",
    "library(\"tidyverse\")"
   ]
  },
  {
   "cell_type": "code",
   "execution_count": 2,
   "metadata": {},
   "outputs": [],
   "source": [
    "obj <- function(x) {\n",
    "  x1=x[1]\n",
    "  x2=x[2]\n",
    "  return (100*(x2-x1**2)**2+(1-x1)**2)\n",
    "}"
   ]
  },
  {
   "cell_type": "code",
   "execution_count": 3,
   "metadata": {},
   "outputs": [
    {
     "data": {
      "text/plain": [
       "-- \u001b[1mDifferential Evolution\u001b[22m -------------- \n",
       "\n",
       "DE settings: \n",
       "Type                  =  real-valued \n",
       "Population size       =  20 \n",
       "Number of generations =  100 \n",
       "Elitism               =  0 \n",
       "Stepsize              =  0.8 \n",
       "Crossover probability =  0.5 \n",
       "Mutation probability  =  0 \n",
       "Search domain = \n",
       "      x1 x2\n",
       "lower -5 -5\n",
       "upper  5  5\n",
       "\n",
       "DE results: \n",
       "Iterations             = 100 \n",
       "Fitness function value = -1.99277e-07 \n",
       "Solution = \n",
       "            x1        x2\n",
       "[1,] 0.9997938 0.9996272"
      ]
     },
     "metadata": {},
     "output_type": "display_data"
    },
    {
     "data": {
      "text/html": [
       "<table>\n",
       "<caption>A data.frame: 1 × 4</caption>\n",
       "<thead>\n",
       "\t<tr><th scope=col>iter</th><th scope=col>x.x1</th><th scope=col>x.x2</th><th scope=col>minf.x.</th></tr>\n",
       "\t<tr><th scope=col>&lt;int&gt;</th><th scope=col>&lt;dbl&gt;</th><th scope=col>&lt;dbl&gt;</th><th scope=col>&lt;dbl&gt;</th></tr>\n",
       "</thead>\n",
       "<tbody>\n",
       "\t<tr><td>100</td><td>0.9997938</td><td>0.9996272</td><td>1.99277e-07</td></tr>\n",
       "</tbody>\n",
       "</table>\n"
      ],
      "text/latex": [
       "A data.frame: 1 × 4\n",
       "\\begin{tabular}{r|llll}\n",
       " iter & x.x1 & x.x2 & minf.x.\\\\\n",
       " <int> & <dbl> & <dbl> & <dbl>\\\\\n",
       "\\hline\n",
       "\t 100 & 0.9997938 & 0.9996272 & 1.99277e-07\\\\\n",
       "\\end{tabular}\n"
      ],
      "text/markdown": [
       "\n",
       "A data.frame: 1 × 4\n",
       "\n",
       "| iter &lt;int&gt; | x.x1 &lt;dbl&gt; | x.x2 &lt;dbl&gt; | minf.x. &lt;dbl&gt; |\n",
       "|---|---|---|---|\n",
       "| 100 | 0.9997938 | 0.9996272 | 1.99277e-07 |\n",
       "\n"
      ],
      "text/plain": [
       "  iter x.x1      x.x2      minf.x.    \n",
       "1 100  0.9997938 0.9996272 1.99277e-07"
      ]
     },
     "metadata": {},
     "output_type": "display_data"
    },
    {
     "data": {
      "image/png": "[encoded data removed]",
      "text/plain": [
       "plot without title"
      ]
     },
     "metadata": {},
     "output_type": "display_data"
    }
   ],
   "source": [
    "#part 1: One run GA in R with graph\n",
    "ga_res = de(type = \"real-valued\",\n",
    "  fitness=function(x) -obj(x), \n",
    "  keepBest = TRUE,\n",
    "  lower = c(-5,-5), \n",
    "  upper = c(5,5))\n",
    "summary(ga_res)\n",
    "plot(ga_res)\n",
    "\n",
    "GAsum<- data.frame(\"iter\"=ga_res@iter,\"x\"=ga_res@solution, \"minf(x)\"=-ga_res@fitnessValue)\n",
    "GAsum\n"
   ]
  },
  {
   "cell_type": "code",
   "execution_count": 4,
   "metadata": {},
   "outputs": [
    {
     "data": {
      "text/html": [
       "<table>\n",
       "<caption>A data.frame: 10 × 5</caption>\n",
       "<thead>\n",
       "\t<tr><th scope=col>iter</th><th scope=col>x1</th><th scope=col>x2</th><th scope=col>minf(x)</th><th scope=col>CPU(time)</th></tr>\n",
       "\t<tr><th scope=col>&lt;dbl&gt;</th><th scope=col>&lt;dbl&gt;</th><th scope=col>&lt;dbl&gt;</th><th scope=col>&lt;dbl&gt;</th><th scope=col>&lt;dbl&gt;</th></tr>\n",
       "</thead>\n",
       "<tbody>\n",
       "\t<tr><td>100</td><td>0.9996313</td><td>0.9991933</td><td>6.163080e-07</td><td>0.11565804</td></tr>\n",
       "\t<tr><td>100</td><td>0.9968266</td><td>0.9937695</td><td>1.119997e-05</td><td>0.11871600</td></tr>\n",
       "\t<tr><td>100</td><td>0.9986366</td><td>0.9971951</td><td>2.498264e-06</td><td>0.10069585</td></tr>\n",
       "\t<tr><td>100</td><td>1.0003405</td><td>1.0007178</td><td>2.495725e-07</td><td>0.12071109</td></tr>\n",
       "\t<tr><td>100</td><td>1.0001334</td><td>1.0002432</td><td>7.360659e-08</td><td>0.11867785</td></tr>\n",
       "\t<tr><td>100</td><td>1.0001880</td><td>1.0003720</td><td>3.710184e-08</td><td>0.10368609</td></tr>\n",
       "\t<tr><td>100</td><td>0.9999064</td><td>0.9997082</td><td>1.103335e-06</td><td>0.09378195</td></tr>\n",
       "\t<tr><td>100</td><td>0.9988229</td><td>0.9974405</td><td>5.654739e-06</td><td>0.10269189</td></tr>\n",
       "\t<tr><td>100</td><td>0.9974575</td><td>0.9954994</td><td>3.987342e-05</td><td>0.10671210</td></tr>\n",
       "\t<tr><td>100</td><td>0.9998659</td><td>0.9998436</td><td>1.266124e-06</td><td>0.09677696</td></tr>\n",
       "</tbody>\n",
       "</table>\n"
      ],
      "text/latex": [
       "A data.frame: 10 × 5\n",
       "\\begin{tabular}{r|lllll}\n",
       " iter & x1 & x2 & minf(x) & CPU(time)\\\\\n",
       " <dbl> & <dbl> & <dbl> & <dbl> & <dbl>\\\\\n",
       "\\hline\n",
       "\t 100 & 0.9996313 & 0.9991933 & 6.163080e-07 & 0.11565804\\\\\n",
       "\t 100 & 0.9968266 & 0.9937695 & 1.119997e-05 & 0.11871600\\\\\n",
       "\t 100 & 0.9986366 & 0.9971951 & 2.498264e-06 & 0.10069585\\\\\n",
       "\t 100 & 1.0003405 & 1.0007178 & 2.495725e-07 & 0.12071109\\\\\n",
       "\t 100 & 1.0001334 & 1.0002432 & 7.360659e-08 & 0.11867785\\\\\n",
       "\t 100 & 1.0001880 & 1.0003720 & 3.710184e-08 & 0.10368609\\\\\n",
       "\t 100 & 0.9999064 & 0.9997082 & 1.103335e-06 & 0.09378195\\\\\n",
       "\t 100 & 0.9988229 & 0.9974405 & 5.654739e-06 & 0.10269189\\\\\n",
       "\t 100 & 0.9974575 & 0.9954994 & 3.987342e-05 & 0.10671210\\\\\n",
       "\t 100 & 0.9998659 & 0.9998436 & 1.266124e-06 & 0.09677696\\\\\n",
       "\\end{tabular}\n"
      ],
      "text/markdown": [
       "\n",
       "A data.frame: 10 × 5\n",
       "\n",
       "| iter &lt;dbl&gt; | x1 &lt;dbl&gt; | x2 &lt;dbl&gt; | minf(x) &lt;dbl&gt; | CPU(time) &lt;dbl&gt; |\n",
       "|---|---|---|---|---|\n",
       "| 100 | 0.9996313 | 0.9991933 | 6.163080e-07 | 0.11565804 |\n",
       "| 100 | 0.9968266 | 0.9937695 | 1.119997e-05 | 0.11871600 |\n",
       "| 100 | 0.9986366 | 0.9971951 | 2.498264e-06 | 0.10069585 |\n",
       "| 100 | 1.0003405 | 1.0007178 | 2.495725e-07 | 0.12071109 |\n",
       "| 100 | 1.0001334 | 1.0002432 | 7.360659e-08 | 0.11867785 |\n",
       "| 100 | 1.0001880 | 1.0003720 | 3.710184e-08 | 0.10368609 |\n",
       "| 100 | 0.9999064 | 0.9997082 | 1.103335e-06 | 0.09378195 |\n",
       "| 100 | 0.9988229 | 0.9974405 | 5.654739e-06 | 0.10269189 |\n",
       "| 100 | 0.9974575 | 0.9954994 | 3.987342e-05 | 0.10671210 |\n",
       "| 100 | 0.9998659 | 0.9998436 | 1.266124e-06 | 0.09677696 |\n",
       "\n"
      ],
      "text/plain": [
       "   iter x1        x2        minf(x)      CPU(time) \n",
       "1  100  0.9996313 0.9991933 6.163080e-07 0.11565804\n",
       "2  100  0.9968266 0.9937695 1.119997e-05 0.11871600\n",
       "3  100  0.9986366 0.9971951 2.498264e-06 0.10069585\n",
       "4  100  1.0003405 1.0007178 2.495725e-07 0.12071109\n",
       "5  100  1.0001334 1.0002432 7.360659e-08 0.11867785\n",
       "6  100  1.0001880 1.0003720 3.710184e-08 0.10368609\n",
       "7  100  0.9999064 0.9997082 1.103335e-06 0.09378195\n",
       "8  100  0.9988229 0.9974405 5.654739e-06 0.10269189\n",
       "9  100  0.9974575 0.9954994 3.987342e-05 0.10671210\n",
       "10 100  0.9998659 0.9998436 1.266124e-06 0.09677696"
      ]
     },
     "metadata": {},
     "output_type": "display_data"
    },
    {
     "data": {
      "image/png": "[encoded data removed]",
      "text/plain": [
       "plot without title"
      ]
     },
     "metadata": {},
     "output_type": "display_data"
    }
   ],
   "source": [
    "#part 2: 10 run table\n",
    "df <- data.frame(matrix(ncol = 5, nrow = 0))\n",
    "x1 <- c(\"iter\", \"x1\",\"x2\",\"minf(x)\",\"CPU(time)\")\n",
    "val<-list()\n",
    "for (i in 1:10){\n",
    "  start_time <- Sys.time()\n",
    "  ga_res = de(type = \"real-valued\",\n",
    "              fitness=function(x) -obj(x), \n",
    "              keepBest = TRUE,\n",
    "              lower = c(-5,-5), \n",
    "              upper = c(5,5))\n",
    "  end_time <- Sys.time()\n",
    "  tdif <- end_time - start_time\n",
    "  df=rbind(df,c(ga_res@iter,ga_res@solution[1],ga_res@solution[2],-ga_res@fitnessValue,tdif))\n",
    "  vec<-vector()\n",
    "  for (j in 1:100){\n",
    "    vec[j]=obj(ga_res@bestSol[[j]])\n",
    "  }\n",
    "  val[[i]]=vec\n",
    "}\n",
    "colnames(df) <- x1\n",
    "name=c(1:10)\n",
    "valdf <- as.data.frame(val)\n",
    "colnames(valdf)<-name\n",
    "df\n",
    "colors<-rainbow(20)\n",
    "plot(valdf[,10],type = \"o\",col=colors[1],ylab='')\n",
    "for(i in 1:9){\n",
    "  lines(valdf[,i], type = \"o\", col =colors[2*i])\n",
    "}"
   ]
  }
 ],
 "metadata": {
  "kernelspec": {
   "display_name": "R",
   "language": "R",
   "name": "ir"
  },
  "language_info": {
   "codemirror_mode": "r",
   "file_extension": ".r",
   "mimetype": "text/x-r-source",
   "name": "R",
   "pygments_lexer": "r",
   "version": "3.6.0"
  }
 },
 "nbformat": 4,
 "nbformat_minor": 2
}
