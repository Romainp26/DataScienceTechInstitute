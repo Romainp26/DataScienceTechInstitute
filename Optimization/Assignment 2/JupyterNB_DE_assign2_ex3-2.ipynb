{
 "cells": [
  {
   "cell_type": "code",
   "execution_count": 1,
   "metadata": {},
   "outputs": [
    {
     "name": "stderr",
     "output_type": "stream",
     "text": [
      "Loading required package: foreach\n",
      "Loading required package: iterators\n",
      "Package 'GA' version 3.2.1\n",
      "Type 'citation(\"GA\")' for citing this R package in publications.\n",
      "\n",
      "Attaching package: 'GA'\n",
      "\n",
      "The following object is masked from 'package:utils':\n",
      "\n",
      "    de\n",
      "\n",
      "-- \u001b[1mAttaching packages\u001b[22m --------------------------------------- tidyverse 1.2.1 --\n",
      "\u001b[32mv\u001b[39m \u001b[34mggplot2\u001b[39m 3.2.0     \u001b[32mv\u001b[39m \u001b[34mpurrr  \u001b[39m 0.3.2\n",
      "\u001b[32mv\u001b[39m \u001b[34mtibble \u001b[39m 2.1.3     \u001b[32mv\u001b[39m \u001b[34mdplyr  \u001b[39m 0.8.1\n",
      "\u001b[32mv\u001b[39m \u001b[34mtidyr  \u001b[39m 0.8.3     \u001b[32mv\u001b[39m \u001b[34mstringr\u001b[39m 1.4.0\n",
      "\u001b[32mv\u001b[39m \u001b[34mreadr  \u001b[39m 1.3.1     \u001b[32mv\u001b[39m \u001b[34mforcats\u001b[39m 0.4.0\n",
      "-- \u001b[1mConflicts\u001b[22m ------------------------------------------ tidyverse_conflicts() --\n",
      "\u001b[31mx\u001b[39m \u001b[34mpurrr\u001b[39m::\u001b[32maccumulate()\u001b[39m masks \u001b[34mforeach\u001b[39m::accumulate()\n",
      "\u001b[31mx\u001b[39m \u001b[34mdplyr\u001b[39m::\u001b[32mfilter()\u001b[39m     masks \u001b[34mstats\u001b[39m::filter()\n",
      "\u001b[31mx\u001b[39m \u001b[34mdplyr\u001b[39m::\u001b[32mlag()\u001b[39m        masks \u001b[34mstats\u001b[39m::lag()\n",
      "\u001b[31mx\u001b[39m \u001b[34mpurrr\u001b[39m::\u001b[32mwhen()\u001b[39m       masks \u001b[34mforeach\u001b[39m::when()\n"
     ]
    }
   ],
   "source": [
    "library(\"GA\")\n",
    "library(\"tidyverse\")"
   ]
  },
  {
   "cell_type": "code",
   "execution_count": 2,
   "metadata": {},
   "outputs": [],
   "source": [
    "obj <- function(x) {\n",
    "  x1=x[1]\n",
    "  x2=x[2]\n",
    "  return (x1**2+x2**2+25*(sin(x1)**2+sin(x2)**2))\n",
    "}"
   ]
  },
  {
   "cell_type": "code",
   "execution_count": 3,
   "metadata": {},
   "outputs": [
    {
     "data": {
      "text/plain": [
       "-- \u001b[1mDifferential Evolution\u001b[22m -------------- \n",
       "\n",
       "DE settings: \n",
       "Type                  =  real-valued \n",
       "Population size       =  20 \n",
       "Number of generations =  100 \n",
       "Elitism               =  0 \n",
       "Stepsize              =  0.8 \n",
       "Crossover probability =  0.5 \n",
       "Mutation probability  =  0 \n",
       "Search domain = \n",
       "             x1        x2\n",
       "lower -6.283185 -6.283185\n",
       "upper  6.283185  6.283185\n",
       "\n",
       "DE results: \n",
       "Iterations             = 100 \n",
       "Fitness function value = -6.795466e-17 \n",
       "Solution = \n",
       "              x1           x2\n",
       "[1,] -4.8412e-10 1.542488e-09"
      ]
     },
     "metadata": {},
     "output_type": "display_data"
    },
    {
     "data": {
      "text/html": [
       "<table>\n",
       "<caption>A data.frame: 1 × 4</caption>\n",
       "<thead>\n",
       "\t<tr><th scope=col>iter</th><th scope=col>x.x1</th><th scope=col>x.x2</th><th scope=col>minf.x.</th></tr>\n",
       "\t<tr><th scope=col>&lt;int&gt;</th><th scope=col>&lt;dbl&gt;</th><th scope=col>&lt;dbl&gt;</th><th scope=col>&lt;dbl&gt;</th></tr>\n",
       "</thead>\n",
       "<tbody>\n",
       "\t<tr><td>100</td><td>-4.8412e-10</td><td>1.542488e-09</td><td>6.795466e-17</td></tr>\n",
       "</tbody>\n",
       "</table>\n"
      ],
      "text/latex": [
       "A data.frame: 1 × 4\n",
       "\\begin{tabular}{r|llll}\n",
       " iter & x.x1 & x.x2 & minf.x.\\\\\n",
       " <int> & <dbl> & <dbl> & <dbl>\\\\\n",
       "\\hline\n",
       "\t 100 & -4.8412e-10 & 1.542488e-09 & 6.795466e-17\\\\\n",
       "\\end{tabular}\n"
      ],
      "text/markdown": [
       "\n",
       "A data.frame: 1 × 4\n",
       "\n",
       "| iter &lt;int&gt; | x.x1 &lt;dbl&gt; | x.x2 &lt;dbl&gt; | minf.x. &lt;dbl&gt; |\n",
       "|---|---|---|---|\n",
       "| 100 | -4.8412e-10 | 1.542488e-09 | 6.795466e-17 |\n",
       "\n"
      ],
      "text/plain": [
       "  iter x.x1        x.x2         minf.x.     \n",
       "1 100  -4.8412e-10 1.542488e-09 6.795466e-17"
      ]
     },
     "metadata": {},
     "output_type": "display_data"
    },
    {
     "data": {
      "image/png": "[encoded data removed]",
      "text/plain": [
       "plot without title"
      ]
     },
     "metadata": {},
     "output_type": "display_data"
    }
   ],
   "source": [
    "#part 1: One run GA in R with graph\n",
    "ga_res = de(type = \"real-valued\",\n",
    "  fitness=function(x) -obj(x), \n",
    "  lower  = c(-2*pi,-2*pi), \n",
    "  upper = c(2*pi,2*pi),\n",
    "  keepBest = TRUE\n",
    ")\n",
    "summary(ga_res)\n",
    "plot(ga_res)\n",
    "\n",
    "GAsum<- data.frame(\"iter\"=ga_res@iter,\"x\"=ga_res@solution, \"minf(x)\"=-ga_res@fitnessValue)\n",
    "GAsum"
   ]
  },
  {
   "cell_type": "code",
   "execution_count": 4,
   "metadata": {},
   "outputs": [
    {
     "data": {
      "text/html": [
       "<table>\n",
       "<caption>A data.frame: 10 × 5</caption>\n",
       "<thead>\n",
       "\t<tr><th scope=col>iter</th><th scope=col>x1</th><th scope=col>x2</th><th scope=col>minf(x)</th><th scope=col>CPU(time)</th></tr>\n",
       "\t<tr><th scope=col>&lt;dbl&gt;</th><th scope=col>&lt;dbl&gt;</th><th scope=col>&lt;dbl&gt;</th><th scope=col>&lt;dbl&gt;</th><th scope=col>&lt;dbl&gt;</th></tr>\n",
       "</thead>\n",
       "<tbody>\n",
       "\t<tr><td>100</td><td>-7.285393e-09</td><td> 5.276677e-10</td><td>1.387240e-15</td><td>0.1675510</td></tr>\n",
       "\t<tr><td>100</td><td>-1.252185e-08</td><td> 1.612742e-08</td><td>1.083915e-14</td><td>0.1246989</td></tr>\n",
       "\t<tr><td>100</td><td> 1.978195e-09</td><td>-5.595567e-10</td><td>1.098854e-16</td><td>0.1176820</td></tr>\n",
       "\t<tr><td>100</td><td>-6.386769e-09</td><td>-1.905140e-08</td><td>1.049741e-14</td><td>0.1086769</td></tr>\n",
       "\t<tr><td>100</td><td>-3.185313e-10</td><td> 1.827143e-09</td><td>8.943778e-17</td><td>0.1216731</td></tr>\n",
       "\t<tr><td>100</td><td>-5.342178e-11</td><td> 2.396237e-10</td><td>1.567109e-18</td><td>0.1217098</td></tr>\n",
       "\t<tr><td>100</td><td> 2.228563e-09</td><td>-4.875661e-09</td><td>7.472026e-16</td><td>0.1236331</td></tr>\n",
       "\t<tr><td>100</td><td>-1.197811e-09</td><td> 5.526350e-10</td><td>4.524407e-17</td><td>0.1226749</td></tr>\n",
       "\t<tr><td>100</td><td>-4.889221e-09</td><td>-4.574199e-09</td><td>1.165522e-15</td><td>0.1057520</td></tr>\n",
       "\t<tr><td>100</td><td>-4.008821e-10</td><td> 8.732191e-10</td><td>2.400367e-17</td><td>0.1017241</td></tr>\n",
       "</tbody>\n",
       "</table>\n"
      ],
      "text/latex": [
       "A data.frame: 10 × 5\n",
       "\\begin{tabular}{r|lllll}\n",
       " iter & x1 & x2 & minf(x) & CPU(time)\\\\\n",
       " <dbl> & <dbl> & <dbl> & <dbl> & <dbl>\\\\\n",
       "\\hline\n",
       "\t 100 & -7.285393e-09 &  5.276677e-10 & 1.387240e-15 & 0.1675510\\\\\n",
       "\t 100 & -1.252185e-08 &  1.612742e-08 & 1.083915e-14 & 0.1246989\\\\\n",
       "\t 100 &  1.978195e-09 & -5.595567e-10 & 1.098854e-16 & 0.1176820\\\\\n",
       "\t 100 & -6.386769e-09 & -1.905140e-08 & 1.049741e-14 & 0.1086769\\\\\n",
       "\t 100 & -3.185313e-10 &  1.827143e-09 & 8.943778e-17 & 0.1216731\\\\\n",
       "\t 100 & -5.342178e-11 &  2.396237e-10 & 1.567109e-18 & 0.1217098\\\\\n",
       "\t 100 &  2.228563e-09 & -4.875661e-09 & 7.472026e-16 & 0.1236331\\\\\n",
       "\t 100 & -1.197811e-09 &  5.526350e-10 & 4.524407e-17 & 0.1226749\\\\\n",
       "\t 100 & -4.889221e-09 & -4.574199e-09 & 1.165522e-15 & 0.1057520\\\\\n",
       "\t 100 & -4.008821e-10 &  8.732191e-10 & 2.400367e-17 & 0.1017241\\\\\n",
       "\\end{tabular}\n"
      ],
      "text/markdown": [
       "\n",
       "A data.frame: 10 × 5\n",
       "\n",
       "| iter &lt;dbl&gt; | x1 &lt;dbl&gt; | x2 &lt;dbl&gt; | minf(x) &lt;dbl&gt; | CPU(time) &lt;dbl&gt; |\n",
       "|---|---|---|---|---|\n",
       "| 100 | -7.285393e-09 |  5.276677e-10 | 1.387240e-15 | 0.1675510 |\n",
       "| 100 | -1.252185e-08 |  1.612742e-08 | 1.083915e-14 | 0.1246989 |\n",
       "| 100 |  1.978195e-09 | -5.595567e-10 | 1.098854e-16 | 0.1176820 |\n",
       "| 100 | -6.386769e-09 | -1.905140e-08 | 1.049741e-14 | 0.1086769 |\n",
       "| 100 | -3.185313e-10 |  1.827143e-09 | 8.943778e-17 | 0.1216731 |\n",
       "| 100 | -5.342178e-11 |  2.396237e-10 | 1.567109e-18 | 0.1217098 |\n",
       "| 100 |  2.228563e-09 | -4.875661e-09 | 7.472026e-16 | 0.1236331 |\n",
       "| 100 | -1.197811e-09 |  5.526350e-10 | 4.524407e-17 | 0.1226749 |\n",
       "| 100 | -4.889221e-09 | -4.574199e-09 | 1.165522e-15 | 0.1057520 |\n",
       "| 100 | -4.008821e-10 |  8.732191e-10 | 2.400367e-17 | 0.1017241 |\n",
       "\n"
      ],
      "text/plain": [
       "   iter x1            x2            minf(x)      CPU(time)\n",
       "1  100  -7.285393e-09  5.276677e-10 1.387240e-15 0.1675510\n",
       "2  100  -1.252185e-08  1.612742e-08 1.083915e-14 0.1246989\n",
       "3  100   1.978195e-09 -5.595567e-10 1.098854e-16 0.1176820\n",
       "4  100  -6.386769e-09 -1.905140e-08 1.049741e-14 0.1086769\n",
       "5  100  -3.185313e-10  1.827143e-09 8.943778e-17 0.1216731\n",
       "6  100  -5.342178e-11  2.396237e-10 1.567109e-18 0.1217098\n",
       "7  100   2.228563e-09 -4.875661e-09 7.472026e-16 0.1236331\n",
       "8  100  -1.197811e-09  5.526350e-10 4.524407e-17 0.1226749\n",
       "9  100  -4.889221e-09 -4.574199e-09 1.165522e-15 0.1057520\n",
       "10 100  -4.008821e-10  8.732191e-10 2.400367e-17 0.1017241"
      ]
     },
     "metadata": {},
     "output_type": "display_data"
    },
    {
     "data": {
      "image/png": "[encoded data removed]",
      "text/plain": [
       "plot without title"
      ]
     },
     "metadata": {},
     "output_type": "display_data"
    }
   ],
   "source": [
    "#part 2: 10 run table\n",
    "df <- data.frame(matrix(ncol = 5, nrow = 0))\n",
    "x1 <- c(\"iter\", \"x1\",\"x2\",\"minf(x)\",\"CPU(time)\")\n",
    "val=list()\n",
    "for (i in 1:10){\n",
    "  start_time <- Sys.time()\n",
    "  ga_res = de(type = \"real-valued\",\n",
    "              fitness=function(x) -obj(x), \n",
    "              lower  = c(-2*pi,-2*pi), \n",
    "              upper = c(2*pi,2*pi),\n",
    "              keepBest = TRUE)\n",
    "  end_time <- Sys.time()\n",
    "  tdif <- end_time - start_time\n",
    "  df=rbind(df,c(ga_res@iter,ga_res@solution[1],ga_res@solution[2],-ga_res@fitnessValue,tdif))\n",
    "  vec<-vector()\n",
    "  for (j in 1:100){\n",
    "    vec[j]=obj(ga_res@bestSol[[j]])\n",
    "  }\n",
    "  val[[i]]=vec\n",
    "}\n",
    "colnames(df) <- x1\n",
    "name=c(1:10)\n",
    "valdf <- as.data.frame(val)\n",
    "colnames(valdf)<-name\n",
    "df\n",
    "colors<-rainbow(20)\n",
    "plot(valdf[,10],type = \"o\",col=colors[1],ylab='')\n",
    "for(i in 1:9){\n",
    "  lines(valdf[,i], type = \"o\", col =colors[2*i])\n",
    "}\n"
   ]
  }
 ],
 "metadata": {
  "kernelspec": {
   "display_name": "R",
   "language": "R",
   "name": "ir"
  },
  "language_info": {
   "codemirror_mode": "r",
   "file_extension": ".r",
   "mimetype": "text/x-r-source",
   "name": "R",
   "pygments_lexer": "r",
   "version": "3.6.0"
  }
 },
 "nbformat": 4,
 "nbformat_minor": 2
}
