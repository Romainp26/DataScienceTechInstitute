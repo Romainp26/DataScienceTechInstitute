{
 "cells": [
  {
   "cell_type": "markdown",
   "metadata": {},
   "source": [
    "# Exercise 1"
   ]
  },
  {
   "cell_type": "code",
   "execution_count": 1,
   "metadata": {},
   "outputs": [],
   "source": [
    "import numpy as np\n",
    "from math import* \n",
    "from scipy.optimize import minimize\n",
    "import random"
   ]
  },
  {
   "cell_type": "markdown",
   "metadata": {},
   "source": [
    "* (a) Define objective function"
   ]
  },
  {
   "cell_type": "code",
   "execution_count": 2,
   "metadata": {},
   "outputs": [],
   "source": [
    "def objective1(p):\n",
    "    result=0\n",
    "    a=[100,150,300]\n",
    "    d=[]        \n",
    "    for i in range(3): \n",
    "        di=a[i]*exp(-p[i]/a[i])\n",
    "        d.append(di)\n",
    "        result=result+d[i]*p[i]\n",
    "    return -result"
   ]
  },
  {
   "cell_type": "markdown",
   "metadata": {},
   "source": [
    "* Define 4 constraints"
   ]
  },
  {
   "cell_type": "code",
   "execution_count": 3,
   "metadata": {},
   "outputs": [],
   "source": [
    "#D1>=0\n",
    "def cons1(p):\n",
    "    result=100*exp(-p[0]/100)\n",
    "    return result\n",
    "#D2>=0\n",
    "def cons2(p):\n",
    "    result=150*exp(-p[1]/150)\n",
    "    return result\n",
    "#D3>=0\n",
    "def cons3(p):\n",
    "    result=300*exp(-p[2]/300)\n",
    "    return result\n",
    "#the same as constaints above\n",
    "#(D1+D2+D3)<=150  --> change to 150-(D1+D2+D3))>=0\n",
    "def cons4(p):\n",
    "    result=cons1(p)+cons2(p)+cons3(p)\n",
    "    return 150-result"
   ]
  },
  {
   "cell_type": "markdown",
   "metadata": {},
   "source": [
    "* Try random function"
   ]
  },
  {
   "cell_type": "code",
   "execution_count": 4,
   "metadata": {},
   "outputs": [
    {
     "name": "stdout",
     "output_type": "stream",
     "text": [
      "0.4350135891716084\n",
      "10\n",
      "43\n"
     ]
    }
   ],
   "source": [
    "print(random.random())\n",
    "print(random.randint(1,10))\n",
    "print(random.randrange(100))"
   ]
  },
  {
   "cell_type": "markdown",
   "metadata": {},
   "source": [
    "* Given a random initial point p0"
   ]
  },
  {
   "cell_type": "code",
   "execution_count": 5,
   "metadata": {},
   "outputs": [
    {
     "name": "stdout",
     "output_type": "stream",
     "text": [
      "-16696.778903065642\n"
     ]
    }
   ],
   "source": [
    "#no bounds for pricing (p)\n",
    "#p0=np.zeros(3)\n",
    "p0=[random.randrange(100),random.randrange(100),random.randrange(100)]\n",
    "print(objective1(p0))"
   ]
  },
  {
   "cell_type": "markdown",
   "metadata": {},
   "source": [
    "* Apply Scipy minimization"
   ]
  },
  {
   "cell_type": "code",
   "execution_count": 6,
   "metadata": {},
   "outputs": [],
   "source": [
    "con1={'type': 'ineq', 'fun':cons1}\n",
    "con2={'type': 'ineq', 'fun':cons2}\n",
    "con3={'type': 'ineq', 'fun':cons3}\n",
    "con4={'type': 'ineq', 'fun':cons4}\n",
    "cons=[con1,con2,con3,con4]\n",
    "\n",
    "sol=minimize(objective1,p0,method='SLSQP',constraints=cons)"
   ]
  },
  {
   "cell_type": "markdown",
   "metadata": {},
   "source": [
    "* (b)Optimal result"
   ]
  },
  {
   "cell_type": "code",
   "execution_count": 7,
   "metadata": {},
   "outputs": [
    {
     "name": "stdout",
     "output_type": "stream",
     "text": [
      "\n",
      "Expective revenue: 43671\n",
      "Seat[D1,D2,D3]:  21 , 38 , 91\n",
      "Price[P1,P2,P3]:  156.75 , 206.75 , 356.75\n"
     ]
    }
   ],
   "source": [
    "print('\\nExpective revenue:' , -round(sol.fun))\n",
    "print('Seat[D1,D2,D3]: ', round(cons1(sol.x)),',',round(cons2(sol.x)),',',round(cons3(sol.x)))\n",
    "print('Price[P1,P2,P3]: ', round(sol.x[0],2),',',round(sol.x[1],2),',',round(sol.x[2],2))"
   ]
  },
  {
   "cell_type": "markdown",
   "metadata": {},
   "source": [
    "* (c) create a sensitive result function"
   ]
  },
  {
   "cell_type": "code",
   "execution_count": 8,
   "metadata": {},
   "outputs": [],
   "source": [
    "def sensiAna(increase):\n",
    "    def new_cons4(p):\n",
    "        return cons4(p)+increase\n",
    "    con1={'type': 'ineq', 'fun':cons1}\n",
    "    con2={'type': 'ineq', 'fun':cons2}\n",
    "    con3={'type': 'ineq', 'fun':cons3}\n",
    "    con4={'type': 'ineq', 'fun':new_cons4}\n",
    "    new_cons=[con1,con2,con3,con4]\n",
    "    newsol=minimize(objective1,p0,method='SLSQP',constraints=new_cons)\n",
    "    return newsol"
   ]
  },
  {
   "cell_type": "markdown",
   "metadata": {},
   "source": [
    "* Result from sensitivity function \n",
    "\n",
    "So the revenue increase: 164 if we increase the seat by 3"
   ]
  },
  {
   "cell_type": "code",
   "execution_count": 9,
   "metadata": {},
   "outputs": [
    {
     "name": "stdout",
     "output_type": "stream",
     "text": [
      "\n",
      "when we increase the seat by 3\n",
      "\n",
      "New Expective revenue: 43835\n",
      "New seat[D1,D2,D3]:  22 ,  39 , 93\n",
      "New price[P1,P2,P3]:  152.87 ,  202.87 , 352.87\n"
     ]
    }
   ],
   "source": [
    "newsol=sensiAna(3)\n",
    "print('\\nwhen we increase the seat by 3\\n')\n",
    "print('New Expective revenue:' , -round(newsol.fun))\n",
    "print('New seat[D1,D2,D3]: ', round(cons1(newsol.x)),', ',round(cons2(newsol.x)),',',round(cons3(newsol.x)))\n",
    "print('New price[P1,P2,P3]: ', round(newsol.x[0],2),', ',round(newsol.x[1],2),',',round(newsol.x[2],2))"
   ]
  },
  {
   "cell_type": "markdown",
   "metadata": {},
   "source": [
    "# Exercise 2: (first try with Python) \n",
    "with gradient based optimization"
   ]
  },
  {
   "cell_type": "markdown",
   "metadata": {},
   "source": [
    "### 2-1: Banana (Rosenvrock) function\n",
    "\n",
    "with fix starting point (0,0), we get result close to \n",
    "(x1: 1 , x2: 1), (result: 0.0)"
   ]
  },
  {
   "cell_type": "code",
   "execution_count": 10,
   "metadata": {},
   "outputs": [
    {
     "name": "stdout",
     "output_type": "stream",
     "text": [
      "x1:  0.9996666798269414  x2:  0.999332213379232\n",
      "result: 1.1126043745697561e-07\n"
     ]
    }
   ],
   "source": [
    "def ex21objective(x):\n",
    "    x1=x[0]\n",
    "    x2=x[1]\n",
    "    return 100*(x2-x1**2)**2+(1-x1)**2\n",
    "#define bound \n",
    "b=(-5,5)\n",
    "bnds=(b,b)\n",
    "\n",
    "#starting point\n",
    "x0=np.zeros(2)\n",
    "\n",
    "#apply Scipy\n",
    "ex21sol=minimize(ex21objective,x0,method='TNC',bounds=bnds)\n",
    "print('x1: ',ex21sol.x[0],' x2: ' ,ex21sol.x[1])\n",
    "print('result:',ex21objective(ex21sol.x))"
   ]
  },
  {
   "cell_type": "markdown",
   "metadata": {},
   "source": [
    "### 2-2: Eggcrate function\n",
    "\n",
    "With fix starting point at (0,0)\n",
    "(x1: 0.0, x2: 0.0), (result: 0.0)"
   ]
  },
  {
   "cell_type": "code",
   "execution_count": 11,
   "metadata": {},
   "outputs": [
    {
     "name": "stdout",
     "output_type": "stream",
     "text": [
      "x1:  0.0  x2:  0.0\n",
      "result: 0.0\n"
     ]
    }
   ],
   "source": [
    "#exercise 2-2:\n",
    "#Eggcrate function\n",
    "def ex22objective(x):\n",
    "    x1=x[0]\n",
    "    x2=x[1]\n",
    "    result= x1**2+x2**2+25*(sin(x1)**2+sin(x2)**2)\n",
    "    return result\n",
    "#define bound \n",
    "b=(-2*pi,2*pi)\n",
    "bnds=(b,b)\n",
    "\n",
    "#starting point\n",
    "x0=np.zeros(2)\n",
    "\n",
    "#apply Scipy\n",
    "ex22sol=minimize(ex22objective,x0,method='TNC',bounds=bnds)\n",
    "print('x1: ',ex22sol.x[0],' x2: ' ,ex22sol.x[1])\n",
    "print('result:',ex22objective(ex22sol.x))"
   ]
  },
  {
   "cell_type": "markdown",
   "metadata": {},
   "source": [
    "### if we run 2-1 and 2-2 with 10 random starting points\n",
    "\n",
    "we see that Rosenvrock function always converage close to 0 global minimum. However, eggcrate function does not always converage to 0, that is sometimes it stuck at local minimum\n"
   ]
  },
  {
   "cell_type": "code",
   "execution_count": 12,
   "metadata": {},
   "outputs": [
    {
     "name": "stdout",
     "output_type": "stream",
     "text": [
      "[     fun: 6.105297307871666e-10\n",
      "     jac: array([-1.14586096e-05,  3.33893758e-05])\n",
      " message: 'Converged (|f_n-f_(n-1)| ~= 0)'\n",
      "    nfev: 61\n",
      "     nit: 17\n",
      "  status: 1\n",
      " success: True\n",
      "       x: array([1.00002466, 1.00004947]),      fun: 1.3078203744921606e-11\n",
      "     jac: array([ 1.75172895e-07, -6.97990214e-07])\n",
      " message: 'Max. number of function evaluations reached'\n",
      "    nfev: 100\n",
      "     nit: 28\n",
      "  status: 3\n",
      " success: False\n",
      "       x: array([0.99999638, 0.99999276]),      fun: 2.3426269172117133e-06\n",
      "     jac: array([0.00186949, 0.00059762])\n",
      " message: 'Converged (|f_n-f_(n-1)| ~= 0)'\n",
      "    nfev: 80\n",
      "     nit: 19\n",
      "  status: 1\n",
      " success: True\n",
      "       x: array([1.00153027, 1.00306587]),      fun: 5.430002854473504e-07\n",
      "     jac: array([-0.00037303, -0.00054726])\n",
      " message: 'Converged (|f_n-f_(n-1)| ~= 0)'\n",
      "    nfev: 57\n",
      "     nit: 14\n",
      "  status: 1\n",
      " success: True\n",
      "       x: array([0.99926362, 0.99852505]),      fun: 4.965788597520211e-11\n",
      "     jac: array([-1.86235512e-06, -3.10772097e-06])\n",
      " message: 'Converged (|f_n-f_(n-1)| ~= 0)'\n",
      "    nfev: 83\n",
      "     nit: 20\n",
      "  status: 1\n",
      " success: True\n",
      "       x: array([0.99999296, 0.99998589]),      fun: 1.213490325839633e-09\n",
      "     jac: array([1.63016274e-05, 2.96590307e-05])\n",
      " message: 'Converged (|f_n-f_(n-1)| ~= 0)'\n",
      "    nfev: 75\n",
      "     nit: 20\n",
      "  status: 1\n",
      " success: True\n",
      "       x: array([1.00003481, 1.00006976]),      fun: 3.510751550734552e-12\n",
      "     jac: array([-5.05790933e-05,  2.95105056e-05])\n",
      " message: 'Converged (|f_n-f_(n-1)| ~= 0)'\n",
      "    nfev: 69\n",
      "     nit: 21\n",
      "  status: 1\n",
      " success: True\n",
      "       x: array([1.00000122, 1.00000257]),      fun: 8.719052053976916e-11\n",
      "     jac: array([-2.39264643e-06, -5.13132387e-06])\n",
      " message: 'Converged (|f_n-f_(n-1)| ~= 0)'\n",
      "    nfev: 82\n",
      "     nit: 22\n",
      "  status: 1\n",
      " success: True\n",
      "       x: array([0.99999067, 0.9999813 ]),      fun: 0.8510870839766059\n",
      "     jac: array([-1.78987576, -0.35344779])\n",
      " message: 'Max. number of function evaluations reached'\n",
      "    nfev: 100\n",
      "     nit: 23\n",
      "  status: 3\n",
      " success: False\n",
      "       x: array([0.07762547, 0.00425847]),      fun: 3.912046849140345e-08\n",
      "     jac: array([-7.13946397e-05, -1.58957264e-04])\n",
      " message: 'Converged (|f_n-f_(n-1)| ~= 0)'\n",
      "    nfev: 55\n",
      "     nit: 16\n",
      "  status: 1\n",
      " success: True\n",
      "       x: array([0.99980237, 0.99960398])]\n"
     ]
    }
   ],
   "source": [
    "#Banana (Rosenvrock) function\n",
    "def ex21objective(x):\n",
    "    x1=x[0]\n",
    "    x2=x[1]\n",
    "    return 100*(x2-x1**2)**2+(1-x1)**2\n",
    "#define bound \n",
    "b=(-5,5)\n",
    "bnds=(b,b)\n",
    "result=[]\n",
    "for i in range(10):\n",
    "    x0=[random.uniform(-5,5),random.uniform(-5,5)]\n",
    "    #apply Scipy\n",
    "    ex21sol=minimize(ex21objective,x0,method='TNC',bounds=bnds)\n",
    "    result.append(ex21sol)\n",
    "print(result)"
   ]
  },
  {
   "cell_type": "code",
   "execution_count": 13,
   "metadata": {},
   "outputs": [
    {
     "name": "stdout",
     "output_type": "stream",
     "text": [
      "[     fun: 9.48819733910626\n",
      "     jac: array([-1.77635684e-07,  3.55271368e-07])\n",
      " message: 'Converged (|f_n-f_(n-1)| ~= 0)'\n",
      "    nfev: 19\n",
      "     nit: 6\n",
      "  status: 1\n",
      " success: True\n",
      "       x: array([3.01960188e+00, 3.59118939e-09]),      fun: 47.417669191593305\n",
      "     jac: array([-1.91846539e-05,  2.13162821e-05])\n",
      " message: 'Converged (|f_n-f_(n-1)| ~= 0)'\n",
      "    nfev: 27\n",
      "     nit: 7\n",
      "  status: 1\n",
      " success: True\n",
      "       x: array([ 6.03142359, -3.01960146]),      fun: 5.060955225633147e-16\n",
      "     jac: array([4.17563342e-07, 4.26756492e-07])\n",
      " message: 'Converged (|f_n-f_(n-1)| ~= 0)'\n",
      "    nfev: 14\n",
      "     nit: 5\n",
      "  status: 1\n",
      " success: True\n",
      "       x: array([3.03006426e-09, 3.20685562e-09]),      fun: 18.976394678212554\n",
      "     jac: array([ 1.42108547e-06, -7.10542736e-07])\n",
      " message: 'Converged (|f_n-f_(n-1)| ~= 0)'\n",
      "    nfev: 16\n",
      "     nit: 6\n",
      "  status: 1\n",
      " success: True\n",
      "       x: array([3.01960192, 3.01960187]),      fun: 37.9294718525082\n",
      "     jac: array([9.94759830e-06, 5.18696197e-05])\n",
      " message: 'Converged (|f_n-f_(n-1)| ~= 0)'\n",
      "    nfev: 24\n",
      "     nit: 8\n",
      "  status: 1\n",
      " success: True\n",
      "       x: array([ 1.71853885e-07, -6.03142289e+00]),      fun: 18.976394678212518\n",
      "     jac: array([0., 0.])\n",
      " message: 'Converged (|f_n-f_(n-1)| ~= 0)'\n",
      "    nfev: 28\n",
      "     nit: 7\n",
      "  status: 1\n",
      " success: True\n",
      "       x: array([-3.01960189,  3.01960188]),      fun: 18.97639467821272\n",
      "     jac: array([-4.26325641e-06, -7.10542736e-07])\n",
      " message: 'Converged (|f_n-f_(n-1)| ~= 0)'\n",
      "    nfev: 14\n",
      "     nit: 6\n",
      "  status: 1\n",
      " success: True\n",
      "       x: array([3.0196018 , 3.01960187]),      fun: 18.976394678212525\n",
      "     jac: array([-3.55271368e-07,  0.00000000e+00])\n",
      " message: 'Converged (|f_n-f_(n-1)| ~= 0)'\n",
      "    nfev: 19\n",
      "     nit: 6\n",
      "  status: 1\n",
      " success: True\n",
      "       x: array([ 3.01960187, -3.01960189]),      fun: 47.417669191594214\n",
      "     jac: array([2.62900812e-05, 1.63424829e-05])\n",
      " message: 'Converged (|f_n-f_(n-1)| ~= 0)'\n",
      "    nfev: 24\n",
      "     nit: 7\n",
      "  status: 1\n",
      " success: True\n",
      "       x: array([3.0196024 , 6.03142436]),      fun: 37.92947185299203\n",
      "     jac: array([2.12452278e-04, 4.68958206e-05])\n",
      " message: 'Converged (|f_n-f_(n-1)| ~= 0)'\n",
      "    nfev: 36\n",
      "     nit: 7\n",
      "  status: 1\n",
      " success: True\n",
      "       x: array([6.03142865e+00, 9.03050865e-07])]\n"
     ]
    }
   ],
   "source": [
    "#Eggcrate function\n",
    "def ex22objective(x):\n",
    "    x1=x[0]\n",
    "    x2=x[1]\n",
    "    result= x1**2+x2**2+25*(sin(x1)**2+sin(x2)**2)\n",
    "    return result\n",
    "#define bound \n",
    "b=(-2*pi,2*pi)\n",
    "bnds=(b,b)\n",
    "result=[]\n",
    "#with random starting point\n",
    "for i in range(10):\n",
    "    x0=[random.uniform(-2*pi,2*pi),random.uniform(-2*pi,2*pi)]\n",
    "    #apply Scipy\n",
    "    ex22sol=minimize(ex22objective,x0,method='TNC',bounds=bnds)\n",
    "    result.append(ex22sol)\n",
    "print(result)"
   ]
  },
  {
   "cell_type": "markdown",
   "metadata": {},
   "source": [
    "### 2-3 Speed Reducer\n",
    "\n",
    "Even though the success of the minimization is always False (means not reaching the global minimum) but all the tried (10 times) always reach to around 2995 that is to said, we can say this as a result. (converge close to the global minimum)"
   ]
  },
  {
   "cell_type": "code",
   "execution_count": 14,
   "metadata": {},
   "outputs": [
    {
     "name": "stdout",
     "output_type": "stream",
     "text": [
      "[     fun: 2995.131586929044\n",
      "     jac: array([ 392.96340942, 4520.35791016,  172.8465271 ,    8.8152771 ,\n",
      "         21.95092773,  254.83911133,  635.24053955])\n",
      " message: 'Positive directional derivative for linesearch'\n",
      "    nfev: 88\n",
      "     nit: 12\n",
      "    njev: 8\n",
      "  status: 8\n",
      " success: False\n",
      "       x: array([ 3.50000011,  0.7       , 17.        ,  7.3       ,  7.71531967,\n",
      "        3.35021353,  5.28665436]),      fun: 2995.129548671606\n",
      "     jac: array([ 392.96343994, 4520.35580444,  172.84643555,    8.8152771 ,\n",
      "         21.95092773,  254.83911133,  635.24005127])\n",
      " message: 'Positive directional derivative for linesearch'\n",
      "    nfev: 83\n",
      "     nit: 11\n",
      "    njev: 7\n",
      "  status: 8\n",
      " success: False\n",
      "       x: array([ 3.4999985 ,  0.7       , 17.        ,  7.3       ,  7.71531984,\n",
      "        3.35021371,  5.28665207]),      fun: 2995.126673078503\n",
      "     jac: array([ 392.9637146 , 4520.35864258,  172.8465271 ,    8.81515503,\n",
      "         21.95092773,  254.83587646,  635.24060059])\n",
      " message: 'Positive directional derivative for linesearch'\n",
      "    nfev: 73\n",
      "     nit: 11\n",
      "    njev: 7\n",
      "  status: 8\n",
      " success: False\n",
      "       x: array([ 3.4999999 ,  0.7       , 17.00000215,  7.3       ,  7.71531983,\n",
      "        3.35019255,  5.28665458]),      fun: 2995.1317751483402\n",
      "     jac: array([ 392.96340942, 4520.35772705,  172.84649658,    8.81530762,\n",
      "         21.95092773,  254.8392334 ,  635.24050903])\n",
      " message: 'Positive directional derivative for linesearch'\n",
      "    nfev: 80\n",
      "     nit: 12\n",
      "    njev: 8\n",
      "  status: 8\n",
      " success: False\n",
      "       x: array([ 3.49999999,  0.7       , 17.00000002,  7.3       ,  7.71531991,\n",
      "        3.3502146 ,  5.28665428]),      fun: 2995.1311872580204\n",
      "     jac: array([ 392.96343994, 4520.35717773,  172.84649658,    8.8152771 ,\n",
      "         21.95092773,  254.83920288,  635.24041748])\n",
      " message: 'Positive directional derivative for linesearch'\n",
      "    nfev: 77\n",
      "     nit: 11\n",
      "    njev: 7\n",
      "  status: 8\n",
      " success: False\n",
      "       x: array([ 3.49999955,  0.7       , 17.        ,  7.3       ,  7.71531989,\n",
      "        3.35021437,  5.28665373]),      fun: 2995.13028303595\n",
      "     jac: array([ 392.96340942, 4520.35641479,  172.84646606,    8.8152771 ,\n",
      "         21.95092773,  254.83914185,  635.24017334])\n",
      " message: 'Positive directional derivative for linesearch'\n",
      "    nfev: 83\n",
      "     nit: 11\n",
      "    njev: 7\n",
      "  status: 8\n",
      " success: False\n",
      "       x: array([ 3.49999897,  0.7       , 17.        ,  7.3       ,  7.71531985,\n",
      "        3.350214  ,  5.28665281]),      fun: 2995.1314785130794\n",
      "     jac: array([ 392.96343994, 4520.35736084,  172.84649658,    8.8152771 ,\n",
      "         21.95089722,  254.8392334 ,  635.24047852])\n",
      " message: 'Positive directional derivative for linesearch'\n",
      "    nfev: 63\n",
      "     nit: 11\n",
      "    njev: 7\n",
      "  status: 8\n",
      " success: False\n",
      "       x: array([ 3.49999973,  0.7       , 17.        ,  7.3       ,  7.7153199 ,\n",
      "        3.35021452,  5.28665402]),      fun: 2995.1294112301684\n",
      "     jac: array([ 392.96343994, 4520.3571167 ,  172.84646606,    8.8152771 ,\n",
      "         21.95089722,  254.83908081,  635.23977661])\n",
      " message: 'Positive directional derivative for linesearch'\n",
      "    nfev: 74\n",
      "     nit: 10\n",
      "    njev: 6\n",
      "  status: 8\n",
      " success: False\n",
      "       x: array([ 3.49999953,  0.7       , 17.00000002,  7.30000008,  7.71532247,\n",
      "        3.35021362,  5.28665115]),      fun: 2995.1318420543607\n",
      "     jac: array([ 392.96340942, 4520.35766602,  172.84649658,    8.8152771 ,\n",
      "         21.95092773,  254.83920288,  635.24057007])\n",
      " message: 'Positive directional derivative for linesearch'\n",
      "    nfev: 82\n",
      "     nit: 12\n",
      "    njev: 8\n",
      "  status: 8\n",
      " success: False\n",
      "       x: array([ 3.49999991,  0.70000001, 17.00000001,  7.3       ,  7.71531994,\n",
      "        3.35021438,  5.28665443]),      fun: 2995.131757021314\n",
      "     jac: array([ 392.96343994, 4520.3576355 ,  172.8465271 ,    8.8152771 ,\n",
      "         21.95089722,  254.8392334 ,  635.24050903])\n",
      " message: 'Positive directional derivative for linesearch'\n",
      "    nfev: 58\n",
      "     nit: 10\n",
      "    njev: 6\n",
      "  status: 8\n",
      " success: False\n",
      "       x: array([ 3.4999999 ,  0.7       , 17.        ,  7.3       ,  7.71531991,\n",
      "        3.35021463,  5.2866543 ])]\n"
     ]
    }
   ],
   "source": [
    "#exercise 2-3 Speed Reducer \n",
    "#Golinski\n",
    "\n",
    "def objective(x):\n",
    "    x1=x[0]\n",
    "    x2=x[1]\n",
    "    x3=x[2]\n",
    "    x4=x[3]\n",
    "    x5=x[4]\n",
    "    x6=x[5]\n",
    "    x7=x[6]\n",
    "    a=(0.7858*3.3333)*x1*(x2**2)*(x3**2)\n",
    "    b=(0.7854*14.9334)*x1*(x2**2)*x3\n",
    "    c=(0.7854*43.0934)*x1*(x2**2)\n",
    "    d=1.508*(x1*(x6**2)+x1*(x7**2))\n",
    "    e=7.4777*(x6**3+x7**3)\n",
    "    f=0.7854*((x4*(x6**2))+(x5*(x7**2)))\n",
    "    result=a+b-c-d+e+f\n",
    "    return result\n",
    "#Constraints (change to >=0)\n",
    "#g1\n",
    "def cons1(x):\n",
    "    result=(27/(x[0]*(x[1]**2)*x[2]))-1\n",
    "    return -result\n",
    "#g2\n",
    "def cons2(x):\n",
    "    result=(397.5/(x[0]*(x[1]**2)*(x[2]**2)))-1\n",
    "    return -result\n",
    "#g3\n",
    "def cons3(x):\n",
    "    result=((1.93*x[3]**3)/(x[1]*x[2]*(x[5]**4)))-1\n",
    "    return -result\n",
    "#g4\n",
    "def cons4(x):\n",
    "    result=((1.93*x[4]**3)/(x[1]*x[2]*(x[6]**4)))-1\n",
    "    return -result\n",
    "#g5\n",
    "def cons5(x):\n",
    "#    result=(1/(110*x[5]**3))*sqrt((((745*x[3])/(x[1]*x[2]))**2)+16.9*10**6-1)\n",
    "    result=(745**2)*(x[3]**2)/((x[1]**2)*(x[2]**2))-(110**2)*(x[5]**6)+16.9*(10**6)\n",
    "    return -result\n",
    "#g6\n",
    "def cons6(x):\n",
    "#    result=(1/(85*x[6]**3))*sqrt((((745*x[4])/(x[1]*x[2]))**2)+157.5*10**6-1)\n",
    "    result=(745**2)*(x[4]**2)/((x[1]**2)*(x[2]**2))-(85**2)*(x[6]**6)+157.5*(10**6)\n",
    "    return -result\n",
    "#g7\n",
    "def cons7(x):\n",
    "    result = (x[1]*x[2])-40\n",
    "    return -result\n",
    "#g8\n",
    "def cons8(x):\n",
    "    result = 5*x[1]-x[0]\n",
    "    return -result\n",
    "#g9\n",
    "def cons9(x):\n",
    "    result = x[0]-12*x[1]\n",
    "    return -result\n",
    "#g10\n",
    "def cons10(x):\n",
    "    result = 1.5*x[5]-x[3]+1.9\n",
    "    return -result\n",
    "#g11\n",
    "def cons11(x):\n",
    "    result = 1.1*x[6]-x[4]+1.9\n",
    "    return -result\n",
    "\n",
    "con1={'type': 'ineq', 'fun':cons1}\n",
    "con2={'type': 'ineq', 'fun':cons2}\n",
    "con3={'type': 'ineq', 'fun':cons3}\n",
    "con4={'type': 'ineq', 'fun':cons4}\n",
    "con5={'type': 'ineq', 'fun':cons5}\n",
    "con6={'type': 'ineq', 'fun':cons6}\n",
    "con7={'type': 'ineq', 'fun':cons7}\n",
    "con8={'type': 'ineq', 'fun':cons8}\n",
    "con9={'type': 'ineq', 'fun':cons9}\n",
    "con10={'type': 'ineq', 'fun':cons10}\n",
    "con11={'type': 'ineq', 'fun':cons11}\n",
    "\n",
    "cons=[con1,con2,con3,con4,con5,con6,con7,con8,con9,con10,con11]\n",
    " \n",
    "b1=(2.6, 3.6)\n",
    "b2=(0.7, 0.8)\n",
    "b3=(17, 28)\n",
    "b4=(7.3, 8.3)\n",
    "b5=(7.3, 8.3)\n",
    "b6=(2.9, 3.9)\n",
    "b7=(5, 5.5)\n",
    "bnds=(b1,b2,b3,b4,b5,b6,b7)\n",
    "\n",
    "\n",
    "result=[]\n",
    "for i in range(10):\n",
    "    x0=[random.uniform(2.6, 3.6),random.uniform(0.7, 0.8),random.uniform(17, 28),\n",
    "        random.uniform(7.3, 8.3),random.uniform(7.3, 8.3),random.uniform(2.9, 3.9),random.uniform(5, 5.5)]\n",
    "    sol = minimize(objective,x0, method='SLSQP', constraints = cons, bounds = bnds)\n",
    "    result.append(sol)\n",
    "print(result)"
   ]
  }
 ],
 "metadata": {
  "kernelspec": {
   "display_name": "Python 3",
   "language": "python",
   "name": "python3"
  },
  "language_info": {
   "codemirror_mode": {
    "name": "ipython",
    "version": 3
   },
   "file_extension": ".py",
   "mimetype": "text/x-python",
   "name": "python",
   "nbconvert_exporter": "python",
   "pygments_lexer": "ipython3",
   "version": "3.6.5"
  }
 },
 "nbformat": 4,
 "nbformat_minor": 2
}
