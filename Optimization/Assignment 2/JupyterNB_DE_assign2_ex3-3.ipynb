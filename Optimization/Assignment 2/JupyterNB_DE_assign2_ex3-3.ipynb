{
 "cells": [
  {
   "cell_type": "code",
   "execution_count": 1,
   "metadata": {},
   "outputs": [
    {
     "name": "stderr",
     "output_type": "stream",
     "text": [
      "Loading required package: foreach\n",
      "Loading required package: iterators\n",
      "Package 'GA' version 3.2.1\n",
      "Type 'citation(\"GA\")' for citing this R package in publications.\n",
      "\n",
      "Attaching package: 'GA'\n",
      "\n",
      "The following object is masked from 'package:utils':\n",
      "\n",
      "    de\n",
      "\n",
      "-- \u001b[1mAttaching packages\u001b[22m --------------------------------------- tidyverse 1.2.1 --\n",
      "\u001b[32mv\u001b[39m \u001b[34mggplot2\u001b[39m 3.2.0     \u001b[32mv\u001b[39m \u001b[34mpurrr  \u001b[39m 0.3.2\n",
      "\u001b[32mv\u001b[39m \u001b[34mtibble \u001b[39m 2.1.3     \u001b[32mv\u001b[39m \u001b[34mdplyr  \u001b[39m 0.8.1\n",
      "\u001b[32mv\u001b[39m \u001b[34mtidyr  \u001b[39m 0.8.3     \u001b[32mv\u001b[39m \u001b[34mstringr\u001b[39m 1.4.0\n",
      "\u001b[32mv\u001b[39m \u001b[34mreadr  \u001b[39m 1.3.1     \u001b[32mv\u001b[39m \u001b[34mforcats\u001b[39m 0.4.0\n",
      "-- \u001b[1mConflicts\u001b[22m ------------------------------------------ tidyverse_conflicts() --\n",
      "\u001b[31mx\u001b[39m \u001b[34mpurrr\u001b[39m::\u001b[32maccumulate()\u001b[39m masks \u001b[34mforeach\u001b[39m::accumulate()\n",
      "\u001b[31mx\u001b[39m \u001b[34mdplyr\u001b[39m::\u001b[32mfilter()\u001b[39m     masks \u001b[34mstats\u001b[39m::filter()\n",
      "\u001b[31mx\u001b[39m \u001b[34mdplyr\u001b[39m::\u001b[32mlag()\u001b[39m        masks \u001b[34mstats\u001b[39m::lag()\n",
      "\u001b[31mx\u001b[39m \u001b[34mpurrr\u001b[39m::\u001b[32mwhen()\u001b[39m       masks \u001b[34mforeach\u001b[39m::when()\n"
     ]
    }
   ],
   "source": [
    "library(\"GA\")\n",
    "library(\"tidyverse\")"
   ]
  },
  {
   "cell_type": "markdown",
   "metadata": {},
   "source": [
    "## Define Objective function"
   ]
  },
  {
   "cell_type": "code",
   "execution_count": 2,
   "metadata": {},
   "outputs": [],
   "source": [
    "obj <- function(x) {\n",
    "  x1=x[1]\n",
    "  x2=x[2]\n",
    "  x3=x[3]\n",
    "  x4=x[4]\n",
    "  x5=x[5]\n",
    "  x6=x[6]\n",
    "  x7=x[7]\n",
    "  a=(0.7858*3.3333)*x1*(x2**2)*(x3**2)\n",
    "  b=(0.7854*14.9334)*x1*(x2**2)*x3\n",
    "  c=(0.7854*43.0934)*x1*(x2**2)\n",
    "  d=1.508*(x1*(x6**2)+x1*(x7**2))\n",
    "  e=7.4777*(x6**3+x7**3)\n",
    "  f=0.7854*((x4*(x6**2))+(x5*(x7**2)))\n",
    "  return (a+b-c-d+e+f)\n",
    "}"
   ]
  },
  {
   "cell_type": "markdown",
   "metadata": {},
   "source": [
    "## Define constraints"
   ]
  },
  {
   "cell_type": "code",
   "execution_count": 3,
   "metadata": {},
   "outputs": [],
   "source": [
    "c1<-function(x){\n",
    "  (27/(x[1]*(x[2]**2)*x[3]))-1\n",
    "}\n",
    "c2<-function(x){\n",
    "  (397.5/(x[1]*(x[2]**2)*(x[3]**2)))-1\n",
    "}\n",
    "c3<-function(x){\n",
    "  ((1.93*x[4]**3)/(x[2]*x[3]*(x[6]**4)))-1\n",
    "}\n",
    "c4<-function(x){\n",
    "  ((1.93*x[5]**3)/(x[2]*x[3]*(x[7]**4)))-1\n",
    "}\n",
    "c5<-function(x){\n",
    "  (745**2)*(x[4]**2)/((x[2]**2)*(x[3]**2))-(110**2)*(x[6]**6)+16.9*(10**6)\n",
    "}\n",
    "c6<-function(x){\n",
    "  (745**2)*(x[5]**2)/((x[2]**2)*(x[3]**2))-(85**2)*(x[7]**6)+157.5*(10**6)\n",
    "}\n",
    "c7<-function(x){\n",
    "  (x[2]*x[3])-40\n",
    "}\n",
    "c8<-function(x){\n",
    "  5*x[2]-x[1]\n",
    "}\n",
    "c9<-function(x){\n",
    "  x[1]-12*x[2]\n",
    "}\n",
    "c10<-function(x){\n",
    "  1.5*x[6]-x[4]+1.9\n",
    "}\n",
    "c11<-function(x){\n",
    "  1.1*x[7]-x[5]+1.9\n",
    "}"
   ]
  },
  {
   "cell_type": "markdown",
   "metadata": {},
   "source": [
    "## Penalised function"
   ]
  },
  {
   "cell_type": "code",
   "execution_count": 4,
   "metadata": {},
   "outputs": [],
   "source": [
    "fitness<-function(x)\n",
    "{\n",
    "  f<- -obj(x)\n",
    "  #pen <- sqrt(.Machine$double.xmax)\n",
    "  #pen<-0.00001\n",
    "  pen<-50000\n",
    "  cons1=max(c1(x),0)*pen\n",
    "  cons2=max(c2(x),0)*pen\n",
    "  cons3=max(c3(x),0)*pen\n",
    "  cons4=max(c4(x),0)*pen\n",
    "  cons5=max(c5(x),0)*pen\n",
    "  cons6=max(c6(x),0)*pen\n",
    "  cons7=max(c7(x),0)*pen\n",
    "  cons8=max(c8(x),0)*pen\n",
    "  cons9=max(c9(x),0)*pen\n",
    "  cons10=max(c10(x),0)*pen\n",
    "  cons11=max(c11(x),0)*pen\n",
    "  f-cons1-cons2-cons3-cons4-cons5-cons6-cons7-cons8-cons9-cons10-cons11\n",
    "}"
   ]
  },
  {
   "cell_type": "code",
   "execution_count": 5,
   "metadata": {},
   "outputs": [
    {
     "data": {
      "text/plain": [
       "-- \u001b[1mDifferential Evolution\u001b[22m -------------- \n",
       "\n",
       "DE settings: \n",
       "Type                  =  real-valued \n",
       "Population size       =  70 \n",
       "Number of generations =  100 \n",
       "Elitism               =  2 \n",
       "Stepsize              =  0.8 \n",
       "Crossover probability =  0.5 \n",
       "Mutation probability  =  0 \n",
       "Search domain = \n",
       "       x1  x2 x3  x4  x5  x6  x7\n",
       "lower 2.6 0.7 17 7.3 7.3 2.9 5.0\n",
       "upper 3.6 0.8 28 8.3 8.3 3.9 5.5\n",
       "\n",
       "DE results: \n",
       "Iterations             = 100 \n",
       "Fitness function value = -2996.037 \n",
       "Solution = \n",
       "           x1        x2       x3       x4       x5       x6       x7\n",
       "[1,] 3.500434 0.7000473 17.00021 7.300392 7.723137 3.351306 5.286705"
      ]
     },
     "metadata": {},
     "output_type": "display_data"
    },
    {
     "data": {
      "text/html": [
       "<table>\n",
       "<caption>A data.frame: 1 × 9</caption>\n",
       "<thead>\n",
       "\t<tr><th scope=col>iter</th><th scope=col>x.x1</th><th scope=col>x.x2</th><th scope=col>x.x3</th><th scope=col>x.x4</th><th scope=col>x.x5</th><th scope=col>x.x6</th><th scope=col>x.x7</th><th scope=col>minf.x.</th></tr>\n",
       "\t<tr><th scope=col>&lt;int&gt;</th><th scope=col>&lt;dbl&gt;</th><th scope=col>&lt;dbl&gt;</th><th scope=col>&lt;dbl&gt;</th><th scope=col>&lt;dbl&gt;</th><th scope=col>&lt;dbl&gt;</th><th scope=col>&lt;dbl&gt;</th><th scope=col>&lt;dbl&gt;</th><th scope=col>&lt;dbl&gt;</th></tr>\n",
       "</thead>\n",
       "<tbody>\n",
       "\t<tr><td>100</td><td>3.500434</td><td>0.7000473</td><td>17.00021</td><td>7.300392</td><td>7.723137</td><td>3.351306</td><td>5.286705</td><td>2996.037</td></tr>\n",
       "</tbody>\n",
       "</table>\n"
      ],
      "text/latex": [
       "A data.frame: 1 × 9\n",
       "\\begin{tabular}{r|lllllllll}\n",
       " iter & x.x1 & x.x2 & x.x3 & x.x4 & x.x5 & x.x6 & x.x7 & minf.x.\\\\\n",
       " <int> & <dbl> & <dbl> & <dbl> & <dbl> & <dbl> & <dbl> & <dbl> & <dbl>\\\\\n",
       "\\hline\n",
       "\t 100 & 3.500434 & 0.7000473 & 17.00021 & 7.300392 & 7.723137 & 3.351306 & 5.286705 & 2996.037\\\\\n",
       "\\end{tabular}\n"
      ],
      "text/markdown": [
       "\n",
       "A data.frame: 1 × 9\n",
       "\n",
       "| iter &lt;int&gt; | x.x1 &lt;dbl&gt; | x.x2 &lt;dbl&gt; | x.x3 &lt;dbl&gt; | x.x4 &lt;dbl&gt; | x.x5 &lt;dbl&gt; | x.x6 &lt;dbl&gt; | x.x7 &lt;dbl&gt; | minf.x. &lt;dbl&gt; |\n",
       "|---|---|---|---|---|---|---|---|---|\n",
       "| 100 | 3.500434 | 0.7000473 | 17.00021 | 7.300392 | 7.723137 | 3.351306 | 5.286705 | 2996.037 |\n",
       "\n"
      ],
      "text/plain": [
       "  iter x.x1     x.x2      x.x3     x.x4     x.x5     x.x6     x.x7     minf.x. \n",
       "1 100  3.500434 0.7000473 17.00021 7.300392 7.723137 3.351306 5.286705 2996.037"
      ]
     },
     "metadata": {},
     "output_type": "display_data"
    },
    {
     "data": {
      "image/png": "[encoded data removed]",
      "text/plain": [
       "plot without title"
      ]
     },
     "metadata": {},
     "output_type": "display_data"
    }
   ],
   "source": [
    "#part 1: One run GA in R with graph\n",
    "ga_res1 <- de(type = \"real-valued\", fitness = fitness, \n",
    "              lower = c(2.6, 0.7, 17, 7.3, 7.3, 2.9, 5.0), \n",
    "              upper = c(3.6, 0.8, 28, 8.3, 8.3, 3.9, 5.5),\n",
    "              elitism = 2,keepBest=TRUE)\n",
    "\n",
    "summary(ga_res1)\n",
    "plot(ga_res1)\n",
    "\n",
    "GAsum<- data.frame(\"iter\"=ga_res1@iter,\"x\"=ga_res1@solution, \"minf(x)\"=-ga_res1@fitnessValue)\n",
    "GAsum\n"
   ]
  },
  {
   "cell_type": "code",
   "execution_count": 8,
   "metadata": {},
   "outputs": [
    {
     "data": {
      "text/html": [
       "<table>\n",
       "<caption>A data.frame: 10 × 10</caption>\n",
       "<thead>\n",
       "\t<tr><th scope=col>iter</th><th scope=col>x1</th><th scope=col>x2</th><th scope=col>x3</th><th scope=col>x4</th><th scope=col>x5</th><th scope=col>x6</th><th scope=col>x7</th><th scope=col>minf(x)</th><th scope=col>CPU(time)</th></tr>\n",
       "\t<tr><th scope=col>&lt;dbl&gt;</th><th scope=col>&lt;dbl&gt;</th><th scope=col>&lt;dbl&gt;</th><th scope=col>&lt;dbl&gt;</th><th scope=col>&lt;dbl&gt;</th><th scope=col>&lt;dbl&gt;</th><th scope=col>&lt;dbl&gt;</th><th scope=col>&lt;dbl&gt;</th><th scope=col>&lt;dbl&gt;</th><th scope=col>&lt;dbl&gt;</th></tr>\n",
       "</thead>\n",
       "<tbody>\n",
       "\t<tr><td>100</td><td>3.500576</td><td>0.7000023</td><td>17.00087</td><td>7.304077</td><td>7.718914</td><td>3.351334</td><td>5.286764</td><td>2995.989</td><td>0.4408581</td></tr>\n",
       "\t<tr><td>100</td><td>3.500592</td><td>0.7000324</td><td>17.00057</td><td>7.308093</td><td>7.728271</td><td>3.350534</td><td>5.286913</td><td>2996.211</td><td>0.4611440</td></tr>\n",
       "\t<tr><td>100</td><td>3.500792</td><td>0.7000220</td><td>17.00007</td><td>7.300913</td><td>7.718966</td><td>3.350546</td><td>5.286900</td><td>2995.884</td><td>0.6472690</td></tr>\n",
       "\t<tr><td>100</td><td>3.500493</td><td>0.7000248</td><td>17.00030</td><td>7.312648</td><td>7.716657</td><td>3.350843</td><td>5.287033</td><td>2996.031</td><td>0.7619300</td></tr>\n",
       "\t<tr><td>100</td><td>3.500570</td><td>0.7000253</td><td>17.00067</td><td>7.322766</td><td>7.717631</td><td>3.352413</td><td>5.287091</td><td>2996.675</td><td>0.8188081</td></tr>\n",
       "\t<tr><td>100</td><td>3.501184</td><td>0.7000567</td><td>17.00208</td><td>7.312705</td><td>7.719336</td><td>3.350636</td><td>5.287126</td><td>2996.820</td><td>0.5694768</td></tr>\n",
       "\t<tr><td>100</td><td>3.500247</td><td>0.7000325</td><td>17.00109</td><td>7.309849</td><td>7.720684</td><td>3.350474</td><td>5.286754</td><td>2995.898</td><td>0.4936800</td></tr>\n",
       "\t<tr><td>100</td><td>3.500624</td><td>0.7000166</td><td>17.00110</td><td>7.305740</td><td>7.722146</td><td>3.350861</td><td>5.287322</td><td>2996.432</td><td>0.4817121</td></tr>\n",
       "\t<tr><td>100</td><td>3.500417</td><td>0.7000095</td><td>17.00029</td><td>7.318892</td><td>7.723360</td><td>3.350349</td><td>5.286716</td><td>2995.806</td><td>0.4677808</td></tr>\n",
       "\t<tr><td>100</td><td>3.500200</td><td>0.7000068</td><td>17.00044</td><td>7.308533</td><td>7.719898</td><td>3.350469</td><td>5.287082</td><td>2995.830</td><td>0.4746981</td></tr>\n",
       "</tbody>\n",
       "</table>\n"
      ],
      "text/latex": [
       "A data.frame: 10 × 10\n",
       "\\begin{tabular}{r|llllllllll}\n",
       " iter & x1 & x2 & x3 & x4 & x5 & x6 & x7 & minf(x) & CPU(time)\\\\\n",
       " <dbl> & <dbl> & <dbl> & <dbl> & <dbl> & <dbl> & <dbl> & <dbl> & <dbl> & <dbl>\\\\\n",
       "\\hline\n",
       "\t 100 & 3.500576 & 0.7000023 & 17.00087 & 7.304077 & 7.718914 & 3.351334 & 5.286764 & 2995.989 & 0.4408581\\\\\n",
       "\t 100 & 3.500592 & 0.7000324 & 17.00057 & 7.308093 & 7.728271 & 3.350534 & 5.286913 & 2996.211 & 0.4611440\\\\\n",
       "\t 100 & 3.500792 & 0.7000220 & 17.00007 & 7.300913 & 7.718966 & 3.350546 & 5.286900 & 2995.884 & 0.6472690\\\\\n",
       "\t 100 & 3.500493 & 0.7000248 & 17.00030 & 7.312648 & 7.716657 & 3.350843 & 5.287033 & 2996.031 & 0.7619300\\\\\n",
       "\t 100 & 3.500570 & 0.7000253 & 17.00067 & 7.322766 & 7.717631 & 3.352413 & 5.287091 & 2996.675 & 0.8188081\\\\\n",
       "\t 100 & 3.501184 & 0.7000567 & 17.00208 & 7.312705 & 7.719336 & 3.350636 & 5.287126 & 2996.820 & 0.5694768\\\\\n",
       "\t 100 & 3.500247 & 0.7000325 & 17.00109 & 7.309849 & 7.720684 & 3.350474 & 5.286754 & 2995.898 & 0.4936800\\\\\n",
       "\t 100 & 3.500624 & 0.7000166 & 17.00110 & 7.305740 & 7.722146 & 3.350861 & 5.287322 & 2996.432 & 0.4817121\\\\\n",
       "\t 100 & 3.500417 & 0.7000095 & 17.00029 & 7.318892 & 7.723360 & 3.350349 & 5.286716 & 2995.806 & 0.4677808\\\\\n",
       "\t 100 & 3.500200 & 0.7000068 & 17.00044 & 7.308533 & 7.719898 & 3.350469 & 5.287082 & 2995.830 & 0.4746981\\\\\n",
       "\\end{tabular}\n"
      ],
      "text/markdown": [
       "\n",
       "A data.frame: 10 × 10\n",
       "\n",
       "| iter &lt;dbl&gt; | x1 &lt;dbl&gt; | x2 &lt;dbl&gt; | x3 &lt;dbl&gt; | x4 &lt;dbl&gt; | x5 &lt;dbl&gt; | x6 &lt;dbl&gt; | x7 &lt;dbl&gt; | minf(x) &lt;dbl&gt; | CPU(time) &lt;dbl&gt; |\n",
       "|---|---|---|---|---|---|---|---|---|---|\n",
       "| 100 | 3.500576 | 0.7000023 | 17.00087 | 7.304077 | 7.718914 | 3.351334 | 5.286764 | 2995.989 | 0.4408581 |\n",
       "| 100 | 3.500592 | 0.7000324 | 17.00057 | 7.308093 | 7.728271 | 3.350534 | 5.286913 | 2996.211 | 0.4611440 |\n",
       "| 100 | 3.500792 | 0.7000220 | 17.00007 | 7.300913 | 7.718966 | 3.350546 | 5.286900 | 2995.884 | 0.6472690 |\n",
       "| 100 | 3.500493 | 0.7000248 | 17.00030 | 7.312648 | 7.716657 | 3.350843 | 5.287033 | 2996.031 | 0.7619300 |\n",
       "| 100 | 3.500570 | 0.7000253 | 17.00067 | 7.322766 | 7.717631 | 3.352413 | 5.287091 | 2996.675 | 0.8188081 |\n",
       "| 100 | 3.501184 | 0.7000567 | 17.00208 | 7.312705 | 7.719336 | 3.350636 | 5.287126 | 2996.820 | 0.5694768 |\n",
       "| 100 | 3.500247 | 0.7000325 | 17.00109 | 7.309849 | 7.720684 | 3.350474 | 5.286754 | 2995.898 | 0.4936800 |\n",
       "| 100 | 3.500624 | 0.7000166 | 17.00110 | 7.305740 | 7.722146 | 3.350861 | 5.287322 | 2996.432 | 0.4817121 |\n",
       "| 100 | 3.500417 | 0.7000095 | 17.00029 | 7.318892 | 7.723360 | 3.350349 | 5.286716 | 2995.806 | 0.4677808 |\n",
       "| 100 | 3.500200 | 0.7000068 | 17.00044 | 7.308533 | 7.719898 | 3.350469 | 5.287082 | 2995.830 | 0.4746981 |\n",
       "\n"
      ],
      "text/plain": [
       "   iter x1       x2        x3       x4       x5       x6       x7      \n",
       "1  100  3.500576 0.7000023 17.00087 7.304077 7.718914 3.351334 5.286764\n",
       "2  100  3.500592 0.7000324 17.00057 7.308093 7.728271 3.350534 5.286913\n",
       "3  100  3.500792 0.7000220 17.00007 7.300913 7.718966 3.350546 5.286900\n",
       "4  100  3.500493 0.7000248 17.00030 7.312648 7.716657 3.350843 5.287033\n",
       "5  100  3.500570 0.7000253 17.00067 7.322766 7.717631 3.352413 5.287091\n",
       "6  100  3.501184 0.7000567 17.00208 7.312705 7.719336 3.350636 5.287126\n",
       "7  100  3.500247 0.7000325 17.00109 7.309849 7.720684 3.350474 5.286754\n",
       "8  100  3.500624 0.7000166 17.00110 7.305740 7.722146 3.350861 5.287322\n",
       "9  100  3.500417 0.7000095 17.00029 7.318892 7.723360 3.350349 5.286716\n",
       "10 100  3.500200 0.7000068 17.00044 7.308533 7.719898 3.350469 5.287082\n",
       "   minf(x)  CPU(time)\n",
       "1  2995.989 0.4408581\n",
       "2  2996.211 0.4611440\n",
       "3  2995.884 0.6472690\n",
       "4  2996.031 0.7619300\n",
       "5  2996.675 0.8188081\n",
       "6  2996.820 0.5694768\n",
       "7  2995.898 0.4936800\n",
       "8  2996.432 0.4817121\n",
       "9  2995.806 0.4677808\n",
       "10 2995.830 0.4746981"
      ]
     },
     "metadata": {},
     "output_type": "display_data"
    },
    {
     "data": {
      "image/png": "[encoded data removed]",
      "text/plain": [
       "plot without title"
      ]
     },
     "metadata": {},
     "output_type": "display_data"
    }
   ],
   "source": [
    "#part 2: 10 run table\n",
    "df <- data.frame(matrix(ncol = 5, nrow = 0))\n",
    "x1 <- c(\"iter\", \"x1\",\"x2\",\"x3\",\"x4\",\"x5\",\"x6\",\"x7\",\"minf(x)\",\"CPU(time)\")\n",
    "val=list()\n",
    "for (i in 1:10){\n",
    "  start_time <- Sys.time()\n",
    "  ga_res <- de(type = \"real-valued\", fitness = fitness, \n",
    "                lower = c(2.6, 0.7, 17, 7.3, 7.3, 2.9, 5.0), \n",
    "                upper = c(3.6, 0.8, 28, 8.3, 8.3, 3.9, 5.5),\n",
    "                elitism = 2,keepBest=TRUE)\n",
    "  end_time <- Sys.time()\n",
    "  tdif <- end_time - start_time\n",
    "  df=rbind(df,c(ga_res@iter,ga_res@solution,-ga_res@fitnessValue,tdif))\n",
    "  vec<-vector()\n",
    "  for (j in 1:100){\n",
    "    vec[j]=obj(ga_res@bestSol[[j]])\n",
    "  }\n",
    "  val[[i]]=vec\n",
    "}\n",
    "colnames(df) <- x1\n",
    "name=c(1:10)\n",
    "valdf <- as.data.frame(val)\n",
    "colnames(valdf)<-name\n",
    "df\n",
    "colors<-rainbow(20)\n",
    "plot(valdf[,1],type = \"o\",col=colors[1],ylab='')\n",
    "for(i in 1:9){\n",
    "  lines(valdf[,i], type = \"o\", col =colors[2*i])\n",
    "}\n",
    "\n"
   ]
  }
 ],
 "metadata": {
  "kernelspec": {
   "display_name": "R",
   "language": "R",
   "name": "ir"
  },
  "language_info": {
   "codemirror_mode": "r",
   "file_extension": ".r",
   "mimetype": "text/x-r-source",
   "name": "R",
   "pygments_lexer": "r",
   "version": "3.6.0"
  }
 },
 "nbformat": 4,
 "nbformat_minor": 2
}
