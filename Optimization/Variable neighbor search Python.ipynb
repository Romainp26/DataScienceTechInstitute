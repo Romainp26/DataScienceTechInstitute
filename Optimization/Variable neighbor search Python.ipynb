{
 "cells": [
  {
   "cell_type": "markdown",
   "metadata": {},
   "source": [
    "# Variable neighbor search\n",
    "\n",
    "Minimize the F(X)=x1^2+x2^2 function (no boundary no constraints)"
   ]
  },
  {
   "cell_type": "markdown",
   "metadata": {},
   "source": [
    "### Formulate the function"
   ]
  },
  {
   "cell_type": "code",
   "execution_count": 1,
   "metadata": {},
   "outputs": [],
   "source": [
    "import random"
   ]
  },
  {
   "cell_type": "code",
   "execution_count": 2,
   "metadata": {},
   "outputs": [],
   "source": [
    "def f(x):\n",
    "    x1=x[0]\n",
    "    x2=x[1]\n",
    "    return(x1**2+x2**2)"
   ]
  },
  {
   "cell_type": "markdown",
   "metadata": {},
   "source": [
    "## 1. Classical steepest descent method\n",
    "\n",
    "Minimize 4 new generated points (from initial point) and keep the minimum point within the 4 and take it as an new point to generate another 4 points set. Stop in the local optimum when the min of new 4 points are not bigger then the parent point.\n",
    "\n",
    "(here I set if it retry 100 times and still not get to a new points then I stop)\n",
    "\n",
    "If we try many different variable setting and we'll see this method depend a lot on the \n",
    "\n",
    "1. runtry: if we set it too small it would stop very fast\n",
    "2. initial point: if it's very far from the optimal, it would need lot's of iterations\n",
    "3. Stepsize: too small, it would take many times to reach the optimal, if it takes too large, we are easily to miss the optimal"
   ]
  },
  {
   "cell_type": "code",
   "execution_count": 3,
   "metadata": {},
   "outputs": [
    {
     "name": "stdout",
     "output_type": "stream",
     "text": [
      "initial point= (1.1694327932301265, -0.506636299569903)\n",
      "iteration  1 =  (0.4277416236853683, -0.09784844711715013)\n",
      "iteration  2 =  (0.3027374617701396, -0.300621843155922)\n",
      "iteration  3 =  (-0.07852630356447521, 0.35974738973909215)\n",
      "iteration  4 =  (-0.0350043487477274, 0.2852389029318805)\n",
      "iteration  5 =  (0.1509125755803269, -0.23611817495859766)\n",
      "iteration  6 =  (-0.11371295853686458, -0.19477882151969705)\n",
      "iteration  7 =  (-0.0866715462212051, 0.17547465069762902)\n",
      "iteration  8 =  (0.14786878167764606, 0.03136291100815436)\n",
      "iteration  9 =  (-0.020189856882643298, -0.10662146818760476)\n",
      "iteration  10 =  (-0.07535086093882981, 0.048220639379384256)\n",
      "iteration  11 =  (0.0369655816638661, -0.028317497638429057)\n",
      "iteration  12 =  (0.0024420815283159314, 0.02096980424699213)\n"
     ]
    }
   ],
   "source": [
    "#generate initial point\n",
    "p0=(random.uniform(-2,2),random.uniform(-2,2))\n",
    "print (\"initial point=\", str(p0))\n",
    "\n",
    "#define \n",
    "runtry=0\n",
    "currentp=p0\n",
    "itera=0\n",
    "\n",
    "#stopping condition: run 5 times without changing the point\n",
    "while runtry<500:\n",
    "    \n",
    "    #generate 4 random points\n",
    "    p1=(p0[0]+random.uniform(-1.5,1.5),p0[1]+random.uniform(-1.5,1.5))\n",
    "    p2=(p0[0]+random.uniform(-1.5,1.5),p0[1]+random.uniform(-1.5,1.5))\n",
    "    p3=(p0[0]+random.uniform(-1.5,1.5),p0[1]+random.uniform(-1.5,1.5))\n",
    "    p4=(p0[0]+random.uniform(-1.5,1.5),p0[1]+random.uniform(-1.5,1.5))\n",
    "\n",
    "    #put points and points result to list\n",
    "    plst=[p1,p2,p3,p4]\n",
    "    rlst=[f(p1),f(p2),f(p3),f(p4)]\n",
    "\n",
    "    #find the minimum point within 4 new points\n",
    "    #check if the minimum point is smaller then the current point, \n",
    "    #if so replace it as a current point\n",
    "    #and set the runtry to 0 \n",
    "    ind=rlst.index(min(rlst))\n",
    "    if rlst[ind] < f(currentp):\n",
    "        currentp= plst[ind]\n",
    "        runtry=0\n",
    "        #print each iteration\n",
    "        itera=itera+1\n",
    "        print(\"iteration \",str(itera),\"= \",str(currentp))\n",
    "    #if the current point didn't change we add 1 to runtry\n",
    "    else:\n",
    "        runtry=runtry+1"
   ]
  },
  {
   "cell_type": "code",
   "execution_count": 4,
   "metadata": {},
   "outputs": [
    {
     "name": "stdout",
     "output_type": "stream",
     "text": [
      "Optimal point:  (0.0024420815283159314, 0.02096980424699213)\n",
      "Optimal result:  0.00044569645234811105\n",
      "Total iteration numbers:  <built-in function iter>\n"
     ]
    }
   ],
   "source": [
    "print(\"Optimal point: \",str(currentp))\n",
    "print(\"Optimal result: \", str(f(currentp)))\n",
    "print(\"Total iteration numbers: \",str(iter))"
   ]
  },
  {
   "cell_type": "markdown",
   "metadata": {},
   "source": [
    "## 2. Descent method\n",
    "\n",
    "Also generate 4 points from the initial point, try 1 by 1 the point to compare to current position, if it's smaller then take that one as a new position to generate 4 points. Until the all 4 points are bigger then current position.\n",
    "\n",
    "here I also add the retry limit "
   ]
  },
  {
   "cell_type": "code",
   "execution_count": 28,
   "metadata": {},
   "outputs": [
    {
     "name": "stdout",
     "output_type": "stream",
     "text": [
      "initial point= (2.7082274240632316, 0.08039262911903222)\n",
      "iteration  1 =  (-0.8717725759367685, -1.6796073708809678)\n",
      "iteration  2 =  (0.9282274240632316, -0.9196073708809678)\n",
      "iteration  3 =  (0.42822742406323133, -1.1796073708809678)\n",
      "iteration  4 =  (-1.1317725759367683, -0.039607370880967774)\n",
      "iteration  5 =  (-0.43177257593676854, 0.5803926291190322)\n",
      "iteration  6 =  (0.5082274240632314, -0.1796073708809678)\n",
      "iteration  7 =  (-0.13177257593676828, -0.3196073708809678)\n",
      "iteration  8 =  (0.20822742406323158, 0.08039262911903222)\n"
     ]
    }
   ],
   "source": [
    "#generate initial point\n",
    "p0=(random.uniform(-5,5),random.uniform(-5,5))\n",
    "print (\"initial point=\", str(p0))\n",
    "\n",
    "runtry=0\n",
    "currentp=p0\n",
    "itera=0\n",
    "\n",
    "#stopping condition: run 5 times without changing the point\n",
    "while runtry<1000:   \n",
    "    #generate 4 random points\n",
    "    p1=(p0[0]+random.randrange(-1000,1000)*0.02,p0[1]+random.randrange(-1000,1000)*0.02)\n",
    "    p2=(p0[0]+random.randrange(-1000,1000)*0.02,p0[1]+random.randrange(-1000,1000)*0.02)\n",
    "    p3=(p0[0]+random.randrange(-1000,1000)*0.02,p0[1]+random.randrange(-1000,1000)*0.02)\n",
    "    p4=(p0[0]+random.randrange(-1000,1000)*0.02,p0[1]+random.randrange(-1000,1000)*0.02)\n",
    "    #put points and points result to list\n",
    "    plst=[p1,p2,p3,p4]\n",
    "    #rlst=[f(p1),f(p2),f(p3),f(p4)]\n",
    "    i=0\n",
    "    for i in range(0,4):\n",
    "        result=f(plst[i])\n",
    "        #if the 1st point that we try is smaller than original point we take it as a next point\n",
    "        if  result<f(currentp):\n",
    "            currentp=plst[i]\n",
    "            itera=itera+1\n",
    "            print(\"iteration \",str(itera),\"= \",str(currentp))\n",
    "            #exit the if condition\n",
    "            i=5\n",
    "            #Set runtry =0\n",
    "            runtry=0\n",
    "        else:\n",
    "            i=i+1\n",
    "    #if currentp has not changed runtry = runtry +1\n",
    "    if i==4:\n",
    "        runtry=runtry+1 "
   ]
  },
  {
   "cell_type": "code",
   "execution_count": 29,
   "metadata": {},
   "outputs": [
    {
     "name": "stdout",
     "output_type": "stream",
     "text": [
      "Optimal point:  (0.20822742406323158, 0.08039262911903222)\n",
      "Optimal result:  0.049821634948679146\n",
      "Total iteration numbers:  8\n"
     ]
    }
   ],
   "source": [
    "print(\"Optimal point: \",str(currentp))\n",
    "print(\"Optimal result: \", str(f(currentp)))\n",
    "print(\"Total iteration numbers: \",str(itera))"
   ]
  },
  {
   "cell_type": "markdown",
   "metadata": {},
   "source": [
    "## 3. Random walk\n",
    "\n",
    "Only generate one point from the initial point, and test if it is smaller then the original point. Until we reach our preset nb of iteration, we would stop.\n",
    "\n",
    "Since this is totally based on random, when it's closer to the minimum it would take longer computation time to find a better point before it reach the pre set iteration number. Therefor it depend a lot on the starting point."
   ]
  },
  {
   "cell_type": "code",
   "execution_count": null,
   "metadata": {},
   "outputs": [],
   "source": [
    "def f(x):\n",
    "    x1=x[0]\n",
    "    x2=x[1]\n",
    "    return(x1**2+x2**2)\n",
    "\n",
    "#generate initial point\n",
    "p0=(random.uniform(-15,15),random.uniform(-15,15))\n",
    "print (\"initial point=\", str(p0))\n",
    "#set a maximum iteration\n",
    "maxiter=20\n",
    "\n",
    "currentp=p0\n",
    "itera=0\n",
    "\n",
    "while itera<maxiter:\n",
    "    p1=(p0[0]+random.randrange(-1000,1000)*0.02,p0[1]+random.randrange(-1000,1000)*0.02)\n",
    "    #if new point is smaller then p1 become new current point\n",
    "    if f(p1)<f(currentp):\n",
    "        currentp=p1\n",
    "        itera=itera+1\n",
    "        print(\"iteration \",str(itera),\"= \",str(currentp))\n",
    "\n",
    "print(\"Optimal point: \",str(currentp))\n",
    "print(\"Optimal result: \", str(f(currentp)))\n",
    "print(\"Total iteration numbers: \",str(itera))"
   ]
  }
 ],
 "metadata": {
  "kernelspec": {
   "display_name": "Python 3",
   "language": "python",
   "name": "python3"
  },
  "language_info": {
   "codemirror_mode": {
    "name": "ipython",
    "version": 3
   },
   "file_extension": ".py",
   "mimetype": "text/x-python",
   "name": "python",
   "nbconvert_exporter": "python",
   "pygments_lexer": "ipython3",
   "version": "3.6.5"
  }
 },
 "nbformat": 4,
 "nbformat_minor": 2
}
