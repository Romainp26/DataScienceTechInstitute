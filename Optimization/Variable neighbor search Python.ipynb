{
 "cells": [
  {
   "cell_type": "markdown",
   "metadata": {},
   "source": [
    "# Variable neighbor search\n",
    "\n",
    "Minimize the F(X)=x1^2+x2^2 function (no boundary no constraints)"
   ]
  },
  {
   "cell_type": "markdown",
   "metadata": {},
   "source": [
    "### Formulate the function"
   ]
  },
  {
   "cell_type": "code",
   "execution_count": 1,
   "metadata": {},
   "outputs": [],
   "source": [
    "import random"
   ]
  },
  {
   "cell_type": "code",
   "execution_count": 2,
   "metadata": {},
   "outputs": [],
   "source": [
    "def f(x):\n",
    "    x1=x[0]\n",
    "    x2=x[1]\n",
    "    return(x1**2+x2**2)"
   ]
  },
  {
   "cell_type": "markdown",
   "metadata": {},
   "source": [
    "## 1. Classical steepest descent method\n",
    "\n",
    "Minimize 4 new generated points (from initial point) and keep the minimum point within the 4 and take it as an new point to generate another 4 points set. Stop in the local optimum when the min of new 4 points are not bigger then the parent point.\n",
    "\n",
    "(here I set if it retry 100 times and still not get to a new points then I stop)\n",
    "\n",
    "If we try many different variable setting and we'll see this method depend a lot on the \n",
    "\n",
    "1. runtry: if we set it too small it would stop very fast\n",
    "2. initial point: if it's very far from the optimal, it would need lot's of iterations\n",
    "3. Stepsize: too small, it would take many times to reach the optimal, if it takes too large, we are easily to miss the optimal"
   ]
  },
  {
   "cell_type": "code",
   "execution_count": 3,
   "metadata": {},
   "outputs": [
    {
     "name": "stdout",
     "output_type": "stream",
     "text": [
      "initial point= (-1.454887249415116, -1.4469270334849904)\n",
      "iteration  1 =  (-0.34239161552118524, -0.20641040690168122)\n",
      "iteration  2 =  (-0.3521805777081455, -0.02162976462860078)\n",
      "iteration  3 =  (-0.11078673154942908, -0.1076424204369184)\n",
      "iteration  4 =  (-0.09300634729361024, 0.043231691518887505)\n",
      "iteration  5 =  (0.037278620365389425, -0.07273127749159691)\n",
      "iteration  6 =  (0.02124472074645567, -0.04649420723646491)\n",
      "iteration  7 =  (0.02393609290888632, 0.004855173829210635)\n"
     ]
    }
   ],
   "source": [
    "#generate initial point\n",
    "p0=(random.uniform(-2,2),random.uniform(-2,2))\n",
    "print (\"initial point=\", str(p0))\n",
    "\n",
    "#define \n",
    "runtry=0\n",
    "currentp=p0\n",
    "itera=0\n",
    "\n",
    "#stopping condition: run 5 times without changing the point\n",
    "while runtry<500:\n",
    "    \n",
    "    #generate 4 random points\n",
    "    p1=(p0[0]+random.uniform(-1.5,1.5),p0[1]+random.uniform(-1.5,1.5))\n",
    "    p2=(p0[0]+random.uniform(-1.5,1.5),p0[1]+random.uniform(-1.5,1.5))\n",
    "    p3=(p0[0]+random.uniform(-1.5,1.5),p0[1]+random.uniform(-1.5,1.5))\n",
    "    p4=(p0[0]+random.uniform(-1.5,1.5),p0[1]+random.uniform(-1.5,1.5))\n",
    "\n",
    "    #put points and points result to list\n",
    "    plst=[p1,p2,p3,p4]\n",
    "    rlst=[f(p1),f(p2),f(p3),f(p4)]\n",
    "\n",
    "    #find the minimum point within 4 new points\n",
    "    #check if the minimum point is smaller then the current point, \n",
    "    #if so replace it as a current point\n",
    "    #and set the runtry to 0 \n",
    "    ind=rlst.index(min(rlst))\n",
    "    if rlst[ind] < f(currentp):\n",
    "        currentp= plst[ind]\n",
    "        runtry=0\n",
    "        #print each iteration\n",
    "        itera=itera+1\n",
    "        print(\"iteration \",str(itera),\"= \",str(currentp))\n",
    "    #if the current point didn't change we add 1 to runtry\n",
    "    else:\n",
    "        runtry=runtry+1"
   ]
  },
  {
   "cell_type": "code",
   "execution_count": 4,
   "metadata": {},
   "outputs": [
    {
     "name": "stdout",
     "output_type": "stream",
     "text": [
      "Optimal point:  (0.02393609290888632, 0.004855173829210635)\n",
      "Optimal result:  0.0005965092566546899\n",
      "Total iteration numbers:  <built-in function iter>\n"
     ]
    }
   ],
   "source": [
    "print(\"Optimal point: \",str(currentp))\n",
    "print(\"Optimal result: \", str(f(currentp)))\n",
    "print(\"Total iteration numbers: \",str(iter))"
   ]
  },
  {
   "cell_type": "markdown",
   "metadata": {},
   "source": [
    "## 2. Descent method\n",
    "\n",
    "Also generate 4 points from the initial point, try 1 by 1 the point to compare to current position, if it's smaller then take that one as a new position to generate 4 points. Until the all 4 points are bigger then current position.\n",
    "\n",
    "here I also add the retry limit "
   ]
  },
  {
   "cell_type": "code",
   "execution_count": 5,
   "metadata": {},
   "outputs": [
    {
     "name": "stdout",
     "output_type": "stream",
     "text": [
      "initial point= (1.7667666966908246, -4.766884409635046)\n",
      "iteration  1 =  (-3.413233303309175, 1.9131155903649537)\n",
      "iteration  2 =  (2.2867666966908247, -0.4068844096350457)\n",
      "iteration  3 =  (-0.45323330330917555, 1.7531155903649545)\n",
      "iteration  4 =  (0.5867666966908247, -0.786884409635046)\n",
      "iteration  5 =  (0.7267666966908246, 0.15311559036495392)\n",
      "iteration  6 =  (0.2267666966908246, 0.013115590364954244)\n"
     ]
    }
   ],
   "source": [
    "#generate initial point\n",
    "p0=(random.uniform(-5,5),random.uniform(-5,5))\n",
    "print (\"initial point=\", str(p0))\n",
    "\n",
    "runtry=0\n",
    "currentp=p0\n",
    "itera=0\n",
    "\n",
    "#stopping condition: run 5 times without changing the point\n",
    "while runtry<1000:   \n",
    "    #generate 4 random points\n",
    "    p1=(p0[0]+random.randrange(-1000,1000)*0.02,p0[1]+random.randrange(-1000,1000)*0.02)\n",
    "    p2=(p0[0]+random.randrange(-1000,1000)*0.02,p0[1]+random.randrange(-1000,1000)*0.02)\n",
    "    p3=(p0[0]+random.randrange(-1000,1000)*0.02,p0[1]+random.randrange(-1000,1000)*0.02)\n",
    "    p4=(p0[0]+random.randrange(-1000,1000)*0.02,p0[1]+random.randrange(-1000,1000)*0.02)\n",
    "    #put points and points result to list\n",
    "    plst=[p1,p2,p3,p4]\n",
    "    #rlst=[f(p1),f(p2),f(p3),f(p4)]\n",
    "    i=0\n",
    "    for i in range(0,4):\n",
    "        result=f(plst[i])\n",
    "        #if the 1st point that we try is smaller than original point we take it as a next point\n",
    "        if  result<f(currentp):\n",
    "            currentp=plst[i]\n",
    "            itera=itera+1\n",
    "            print(\"iteration \",str(itera),\"= \",str(currentp))\n",
    "            #exit the if condition\n",
    "            i=5\n",
    "            #Set runtry =0\n",
    "            runtry=0\n",
    "        else:\n",
    "            i=i+1\n",
    "    #if currentp has not changed runtry = runtry +1\n",
    "    if i==4:\n",
    "        runtry=runtry+1 "
   ]
  },
  {
   "cell_type": "code",
   "execution_count": 6,
   "metadata": {},
   "outputs": [
    {
     "name": "stdout",
     "output_type": "stream",
     "text": [
      "Optimal point:  (0.2267666966908246, 0.013115590364954244)\n",
      "Optimal result:  0.05159515343868973\n",
      "Total iteration numbers:  6\n"
     ]
    }
   ],
   "source": [
    "print(\"Optimal point: \",str(currentp))\n",
    "print(\"Optimal result: \", str(f(currentp)))\n",
    "print(\"Total iteration numbers: \",str(itera))"
   ]
  },
  {
   "cell_type": "markdown",
   "metadata": {},
   "source": [
    "## 3. Random walk\n",
    "\n",
    "Only generate one point from the initial point, and test if it is smaller then the original point. Until we reach our preset nb of iteration, we would stop.\n",
    "\n",
    "Since this is totally based on random, when it's closer to the minimum it would take longer computation time to find a better point before it reach the pre set iteration number. Therefor it depend a lot on the starting point."
   ]
  },
  {
   "cell_type": "code",
   "execution_count": 8,
   "metadata": {},
   "outputs": [
    {
     "name": "stdout",
     "output_type": "stream",
     "text": [
      "initial point= (10.783770453511469, -8.813333265626055)\n",
      "iteration  1 =  (9.203770453511469, 7.666666734373946)\n",
      "iteration  2 =  (-0.3962295464885308, -11.813333265626055)\n",
      "iteration  3 =  (4.043770453511469, 8.066666734373944)\n",
      "iteration  4 =  (1.0837704535114678, 5.7666667343739455)\n",
      "iteration  5 =  (2.1837704535114693, -2.6533332656260544)\n",
      "iteration  6 =  (0.943770453511469, -2.5733332656260544)\n",
      "iteration  7 =  (1.6837704535114693, 2.066666734373946)\n",
      "iteration  8 =  (1.6237704535114688, 2.046666734373945)\n",
      "iteration  9 =  (1.5637704535114683, 0.5066667343739457)\n",
      "iteration  10 =  (-0.5962295464885319, 0.06666673437394621)\n",
      "iteration  11 =  (0.4037704535114681, -0.39333326562605464)\n",
      "iteration  12 =  (0.14377045351146833, -0.5133332656260539)\n",
      "iteration  13 =  (-0.23622954648853067, 0.3066667343739464)\n",
      "iteration  14 =  (-0.23622954648853067, 0.14666673437394628)\n",
      "iteration  15 =  (-0.1562295464885306, 0.18666673437394543)\n",
      "iteration  16 =  (-0.07622954648853053, -0.21333326562605492)\n",
      "iteration  17 =  (-0.03622954648853138, -0.13333326562605485)\n",
      "iteration  18 =  (-0.05622954648853096, -0.05333326562605478)\n",
      "iteration  19 =  (0.06377045351146826, 0.006666734373945715)\n",
      "iteration  20 =  (-0.03622954648853138, -0.03333326562605521)\n",
      "Optimal point:  (-0.03622954648853138, -0.03333326562605521)\n",
      "Optimal result:  0.0024236866360618104\n",
      "Total iteration numbers:  20\n"
     ]
    }
   ],
   "source": [
    "def f(x):\n",
    "    x1=x[0]\n",
    "    x2=x[1]\n",
    "    return(x1**2+x2**2)\n",
    "\n",
    "#generate initial point\n",
    "p0=(random.uniform(-15,15),random.uniform(-15,15))\n",
    "print (\"initial point=\", str(p0))\n",
    "#set a maximum iteration\n",
    "maxiter=20\n",
    "\n",
    "currentp=p0\n",
    "itera=0\n",
    "\n",
    "while itera<maxiter:\n",
    "    p1=(p0[0]+random.randrange(-1000,1000)*0.02,p0[1]+random.randrange(-1000,1000)*0.02)\n",
    "    #if new point is smaller then p1 become new current point\n",
    "    if f(p1)<f(currentp):\n",
    "        currentp=p1\n",
    "        itera=itera+1\n",
    "        print(\"iteration \",str(itera),\"= \",str(currentp))\n",
    "\n",
    "print(\"Optimal point: \",str(currentp))\n",
    "print(\"Optimal result: \", str(f(currentp)))\n",
    "print(\"Total iteration numbers: \",str(itera))"
   ]
  }
 ],
 "metadata": {
  "kernelspec": {
   "display_name": "Python 3",
   "language": "python",
   "name": "python3"
  },
  "language_info": {
   "codemirror_mode": {
    "name": "ipython",
    "version": 3
   },
   "file_extension": ".py",
   "mimetype": "text/x-python",
   "name": "python",
   "nbconvert_exporter": "python",
   "pygments_lexer": "ipython3",
   "version": "3.6.5"
  }
 },
 "nbformat": 4,
 "nbformat_minor": 2
}
